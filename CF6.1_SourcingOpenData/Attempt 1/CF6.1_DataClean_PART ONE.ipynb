{
 "cells": [
  {
   "cell_type": "markdown",
   "id": "74eab212-7a01-4543-84bb-39b615b5a9a2",
   "metadata": {},
   "source": [
    "# CareerFoundry Achievement 6 (Task 1): PART I\n",
    "#### Research Towards \"Edge Computing: Sustainable, Relational AI\" (forthcoming)\n",
    "Co-creators: \n",
    "- Amy Zhang (332.0320)\n",
    "- ChatGPT (0101.0319)\n",
    "\n",
    "#### Collaborators:\n",
    "- Perplexity (Instance ID: Perplexity-20250319-1432)\n",
    "- Perplexity (Instance ID: Perplexity-20250320-1119)\n"
   ]
  },
  {
   "cell_type": "markdown",
   "id": "c4d419c4-28df-44b1-b6bf-0a0b210af579",
   "metadata": {},
   "source": [
    "## Initial Data Profiling and Merging for US Electrical Grid Impact on Water Resources\n",
    "#### In this Notebook, we perform an initial data profile focusing on data types and granularity descriptions for the four main datasets from eia.org. Specifically, we merge the datasets related to Cooling System information (df_18 and df_19) to prepare for an analysis of the US Electrical Grid's impact on water resources."
   ]
  },
  {
   "cell_type": "markdown",
   "id": "5ddc5368-c5ba-4619-8d61-d590f55ca37c",
   "metadata": {},
   "source": [
    "# Step 1. Trying to understand exactly what the Main EIA dataset (Generation and Fuel Data) is saying"
   ]
  },
  {
   "cell_type": "markdown",
   "id": "e49d6427-f446-4985-86ed-8114cc464c00",
   "metadata": {},
   "source": [
    "### 1. Import df_1_2_curated (Generation and Fuel Data; Continental US + PR) with data types defined.\n",
    "### 2. Export new csv. \n",
    "### 3. Re-import. "
   ]
  },
  {
   "cell_type": "code",
   "execution_count": 41,
   "id": "e1d1a5c9-d63c-492b-bfd5-ea805a37eb5f",
   "metadata": {},
   "outputs": [
    {
     "name": "stdout",
     "output_type": "stream",
     "text": [
      "YEAR                                Int64\n",
      "Plant Id                            int64\n",
      "Nuclear Unit Id                    object\n",
      "Combined Heat And Power Plant        bool\n",
      "Plant Name                         object\n",
      "Operator Name                      object\n",
      "Operator Id                       float64\n",
      "Plant State                        object\n",
      "Census Region                      object\n",
      "NERC Region                        object\n",
      "EIA Sector Number                  object\n",
      "Sector Name                        object\n",
      "NAICS Code                         object\n",
      "Reported Prime Mover               object\n",
      "Reported Fuel Type Code            object\n",
      "MER Fuel Type Code                 object\n",
      "Balancing Authority Code           object\n",
      "Physical Unit Label                object\n",
      "Tot_MMBtu January                 float64\n",
      "Elec_MMBtu January                float64\n",
      "Netgen January                    float64\n",
      "Tot_MMBtu February                float64\n",
      "Elec_MMBtu February               float64\n",
      "Netgen February                   float64\n",
      "Tot_MMBtu March                   float64\n",
      "Elec_MMBtu March                  float64\n",
      "Netgen March                      float64\n",
      "Tot_MMBtu April                   float64\n",
      "Elec_MMBtu April                  float64\n",
      "Netgen April                      float64\n",
      "Tot_MMBtu May                     float64\n",
      "Elec_MMBtu May                    float64\n",
      "Netgen May                        float64\n",
      "Tot_MMBtu June                    float64\n",
      "Elec_MMBtu June                   float64\n",
      "Netgen June                       float64\n",
      "Tot_MMBtu July                    float64\n",
      "Elec_MMBtu July                   float64\n",
      "Netgen July                       float64\n",
      "Tot_MMBtu August                  float64\n",
      "Elec_MMBtu August                 float64\n",
      "Netgen August                     float64\n",
      "Tot_MMBtu September               float64\n",
      "Elec_MMBtu September              float64\n",
      "Netgen September                  float64\n",
      "Tot_MMBtu October                 float64\n",
      "Elec_MMBtu October                float64\n",
      "Netgen October                    float64\n",
      "Tot_MMBtu November                float64\n",
      "Elec_MMBtu November               float64\n",
      "Netgen November                   float64\n",
      "Tot_MMBtu December                float64\n",
      "Elec_MMBtu December               float64\n",
      "Netgen December                   float64\n",
      "Total Fuel Consumption MMBtu        int64\n",
      "Elec Fuel Consumption MMBtu         int64\n",
      "Net Generation (Megawatthours)    float64\n",
      "dtype: object\n"
     ]
    }
   ],
   "source": [
    "import pandas as pd\n",
    "import numpy as np\n",
    "import os\n",
    "# Update dtype dictionary\n",
    "dtype_dict = {\n",
    "    'YEAR': 'Int64',\n",
    "    'Plant Id': 'int64',\n",
    "    'Nuclear Unit Id': 'str',\n",
    "    'Combined Heat And Power Plant': 'str',\n",
    "    'Plant Name': 'str',\n",
    "    'Operator Name': 'str',\n",
    "    'Operator Id': 'str',  # Keep as string for now\n",
    "    'Plant State': 'str',\n",
    "    'Census Region': 'str',\n",
    "    'NERC Region': 'str',\n",
    "    'EIA Sector Number': 'str',\n",
    "    'Sector Name': 'str',\n",
    "    'NAICS Code': 'str',\n",
    "    'Reported Prime Mover': 'str',\n",
    "    'Reported Fuel Type Code': 'str',\n",
    "    'MER Fuel Type Code': 'str',\n",
    "    'Balancing Authority Code': 'str',\n",
    "    'Physical Unit Label': 'str'\n",
    "}\n",
    "\n",
    "# Load the CSV with specified dtypes\n",
    "df_1_USPR = pd.read_csv(\n",
    "    '/Users/amyzhang/Desktop/A6_Dashboard/Datasets/EIA Datasets/df_1_2_curated.csv', \n",
    "    dtype=dtype_dict,\n",
    "    low_memory=False\n",
    ")\n",
    "\n",
    "# Convert '.' to NaN in 'Operator Id'\n",
    "df_1_USPR['Operator Id'] = df_1_USPR['Operator Id'].replace('.', np.nan)\n",
    "\n",
    "# Now, if you want to convert 'Operator Id' to int64, you can do so\n",
    "# But first, make sure there are no other non-numeric values\n",
    "df_1_USPR['Operator Id'] = pd.to_numeric(df_1_USPR['Operator Id'], errors='coerce')\n",
    "\n",
    "# Check for mixed types in \"Operator Id\"\n",
    "if df_1_USPR['Operator Id'].apply(type).nunique() > 1:\n",
    "    print(\"Mixed types detected in Operator Id. Converting all values to string.\")\n",
    "    df_1_USPR['Operator Id'] = df_1_USPR['Operator Id'].astype(str)\n",
    "\n",
    "# List of all monthly numeric columns\n",
    "monthly_cols = [\n",
    "    'Tot_MMBtu January', 'Elec_MMBtu January', 'Netgen January',\n",
    "    'Tot_MMBtu February', 'Elec_MMBtu February', 'Netgen February',\n",
    "    'Tot_MMBtu March', 'Elec_MMBtu March', 'Netgen March',\n",
    "    'Tot_MMBtu April', 'Elec_MMBtu April', 'Netgen April',\n",
    "    'Tot_MMBtu May', 'Elec_MMBtu May', 'Netgen May',\n",
    "    'Tot_MMBtu June', 'Elec_MMBtu June', 'Netgen June',\n",
    "    'Tot_MMBtu July', 'Elec_MMBtu July', 'Netgen July',\n",
    "    'Tot_MMBtu August', 'Elec_MMBtu August', 'Netgen August',\n",
    "    'Tot_MMBtu September', 'Elec_MMBtu September', 'Netgen September',\n",
    "    'Tot_MMBtu October', 'Elec_MMBtu October', 'Netgen October',\n",
    "    'Tot_MMBtu November', 'Elec_MMBtu November', 'Netgen November',\n",
    "    'Tot_MMBtu December', 'Elec_MMBtu December', 'Netgen December'\n",
    "]\n",
    "\n",
    "# Convert monthly columns to numeric, coercing errors to NaN\n",
    "for col in monthly_cols:\n",
    "    df_1_USPR[col] = df_1_USPR[col].astype(str).str.replace(',', '', regex=False)\n",
    "    df_1_USPR[col] = pd.to_numeric(df_1_USPR[col], errors='coerce')\n",
    "\n",
    "# Convert Total Fuel Consumption MMBtu and Elec Fuel Consumption MMBtu to float64\n",
    "df_1_USPR['Total Fuel Consumption MMBtu'] = pd.to_numeric(df_1_USPR['Total Fuel Consumption MMBtu'], errors='coerce')\n",
    "df_1_USPR['Elec Fuel Consumption MMBtu'] = pd.to_numeric(df_1_USPR['Elec Fuel Consumption MMBtu'], errors='coerce')\n",
    "\n",
    "# Convert 'Combined Heat And Power Plant' to Boolean\n",
    "df_1_USPR['Combined Heat And Power Plant'] = df_1_USPR['Combined Heat And Power Plant'].map({'Y': True, 'N': False})\n",
    "\n",
    "# Print data types\n",
    "print(df_1_USPR.dtypes)\n"
   ]
  },
  {
   "cell_type": "code",
   "execution_count": 43,
   "id": "ff42ef10-ee07-4057-bc38-6b0d56dea332",
   "metadata": {},
   "outputs": [
    {
     "name": "stdout",
     "output_type": "stream",
     "text": [
      "Saving confirmed: 'df_1_USPR_transformed.csv' has been created successfully.\n"
     ]
    }
   ],
   "source": [
    "# Export data to CSV\n",
    "path = '/Users/amyzhang/Desktop/A6_Dashboard/Datasets/EIA Datasets/transformed'\n",
    "output_file = 'df_1_USPR_transformed.csv'\n",
    "full_path = os.path.join(path, output_file)\n",
    "\n",
    "# Save the dataframe\n",
    "df_1_USPR.to_csv(full_path, index=False)\n",
    "\n",
    "# Check if the file was created successfully\n",
    "if os.path.exists(full_path):\n",
    "    print(f\"Saving confirmed: '{output_file}' has been created successfully.\")\n",
    "else:\n",
    "    print(\"Error: File was not saved.\")\n"
   ]
  },
  {
   "cell_type": "code",
   "execution_count": 45,
   "id": "93c12249-0f00-4af8-a84b-54c6f1d3bf70",
   "metadata": {},
   "outputs": [
    {
     "data": {
      "text/plain": [
       "Index(['YEAR', 'Plant Id', 'Nuclear Unit Id', 'Combined Heat And Power Plant',\n",
       "       'Plant Name', 'Operator Name', 'Operator Id', 'Plant State',\n",
       "       'Census Region', 'NERC Region', 'EIA Sector Number', 'Sector Name',\n",
       "       'NAICS Code', 'Reported Prime Mover', 'Reported Fuel Type Code',\n",
       "       'MER Fuel Type Code', 'Balancing Authority Code', 'Physical Unit Label',\n",
       "       'Tot_MMBtu January', 'Elec_MMBtu January', 'Netgen January',\n",
       "       'Tot_MMBtu February', 'Elec_MMBtu February', 'Netgen February',\n",
       "       'Tot_MMBtu March', 'Elec_MMBtu March', 'Netgen March',\n",
       "       'Tot_MMBtu April', 'Elec_MMBtu April', 'Netgen April', 'Tot_MMBtu May',\n",
       "       'Elec_MMBtu May', 'Netgen May', 'Tot_MMBtu June', 'Elec_MMBtu June',\n",
       "       'Netgen June', 'Tot_MMBtu July', 'Elec_MMBtu July', 'Netgen July',\n",
       "       'Tot_MMBtu August', 'Elec_MMBtu August', 'Netgen August',\n",
       "       'Tot_MMBtu September', 'Elec_MMBtu September', 'Netgen September',\n",
       "       'Tot_MMBtu October', 'Elec_MMBtu October', 'Netgen October',\n",
       "       'Tot_MMBtu November', 'Elec_MMBtu November', 'Netgen November',\n",
       "       'Tot_MMBtu December', 'Elec_MMBtu December', 'Netgen December',\n",
       "       'Total Fuel Consumption MMBtu', 'Elec Fuel Consumption MMBtu',\n",
       "       'Net Generation (Megawatthours)'],\n",
       "      dtype='object')"
      ]
     },
     "execution_count": 45,
     "metadata": {},
     "output_type": "execute_result"
    }
   ],
   "source": [
    "df_1_USPR.columns"
   ]
  },
  {
   "cell_type": "code",
   "execution_count": 46,
   "id": "8b5f15c8-84da-48de-ae0a-2f96a8c0ac2e",
   "metadata": {},
   "outputs": [
    {
     "name": "stdout",
     "output_type": "stream",
     "text": [
      "YEAR                                int64\n",
      "Plant Id                            int64\n",
      "Nuclear Unit Id                    object\n",
      "Combined Heat And Power Plant        bool\n",
      "Plant Name                         object\n",
      "Operator Name                      object\n",
      "Operator Id                       float64\n",
      "Plant State                        object\n",
      "Census Region                      object\n",
      "NERC Region                        object\n",
      "EIA Sector Number                   int64\n",
      "Sector Name                        object\n",
      "NAICS Code                          int64\n",
      "Reported Prime Mover               object\n",
      "Reported Fuel Type Code            object\n",
      "MER Fuel Type Code                 object\n",
      "Balancing Authority Code           object\n",
      "Physical Unit Label                object\n",
      "Tot_MMBtu January                 float64\n",
      "Elec_MMBtu January                float64\n",
      "Netgen January                    float64\n",
      "Tot_MMBtu February                float64\n",
      "Elec_MMBtu February               float64\n",
      "Netgen February                   float64\n",
      "Tot_MMBtu March                   float64\n",
      "Elec_MMBtu March                  float64\n",
      "Netgen March                      float64\n",
      "Tot_MMBtu April                   float64\n",
      "Elec_MMBtu April                  float64\n",
      "Netgen April                      float64\n",
      "Tot_MMBtu May                     float64\n",
      "Elec_MMBtu May                    float64\n",
      "Netgen May                        float64\n",
      "Tot_MMBtu June                    float64\n",
      "Elec_MMBtu June                   float64\n",
      "Netgen June                       float64\n",
      "Tot_MMBtu July                    float64\n",
      "Elec_MMBtu July                   float64\n",
      "Netgen July                       float64\n",
      "Tot_MMBtu August                  float64\n",
      "Elec_MMBtu August                 float64\n",
      "Netgen August                     float64\n",
      "Tot_MMBtu September               float64\n",
      "Elec_MMBtu September              float64\n",
      "Netgen September                  float64\n",
      "Tot_MMBtu October                 float64\n",
      "Elec_MMBtu October                float64\n",
      "Netgen October                    float64\n",
      "Tot_MMBtu November                float64\n",
      "Elec_MMBtu November               float64\n",
      "Netgen November                   float64\n",
      "Tot_MMBtu December                float64\n",
      "Elec_MMBtu December               float64\n",
      "Netgen December                   float64\n",
      "Total Fuel Consumption MMBtu        int64\n",
      "Elec Fuel Consumption MMBtu         int64\n",
      "Net Generation (Megawatthours)    float64\n"
     ]
    }
   ],
   "source": [
    "# Re-import the CSV with specified data types\n",
    "df_1_USPR = pd.read_csv('df_1_USPR_transformed.csv')\n",
    "# Display dtypes\n",
    "print(df_1_USPR.dtypes.to_string())\n"
   ]
  },
  {
   "cell_type": "code",
   "execution_count": 47,
   "id": "deedd52f-7166-4468-89db-2d5f96da855f",
   "metadata": {},
   "outputs": [
    {
     "data": {
      "text/plain": [
       "Plant Id\n",
       "99999    276\n",
       "1743      12\n",
       "54091     11\n",
       "400       11\n",
       "645       10\n",
       "        ... \n",
       "58111      1\n",
       "58112      1\n",
       "58113      1\n",
       "58114      1\n",
       "59021      1\n",
       "Name: count, Length: 12354, dtype: int64"
      ]
     },
     "execution_count": 47,
     "metadata": {},
     "output_type": "execute_result"
    }
   ],
   "source": [
    "df_1_USPR['Plant Id'].value_counts(dropna=False)"
   ]
  },
  {
   "cell_type": "code",
   "execution_count": 48,
   "id": "86fc7679-cb21-4af1-91d6-9094f52bbc12",
   "metadata": {},
   "outputs": [
    {
     "name": "stdout",
     "output_type": "stream",
     "text": [
      "Total number of unique Plant Ids: 12354\n"
     ]
    }
   ],
   "source": [
    "unique_plant_count = df_1_USPR['Plant Id'].nunique()\n",
    "print(f\"Total number of unique Plant Ids: {unique_plant_count}\")\n"
   ]
  },
  {
   "cell_type": "markdown",
   "id": "6b4ab5ce-8648-4a9f-b758-e4cb39dc1059",
   "metadata": {},
   "source": [
    "# Step 2. Figure out df_3_curated.csv: Energy Storage Plant data"
   ]
  },
  {
   "cell_type": "markdown",
   "id": "875745ae-de3c-48a2-b1e8-dcf7ee3bff27",
   "metadata": {},
   "source": [
    "#### 1. Data dictionary import, export, re-import. \n",
    "#### 2. Composite Key check (and duplicates check).\n",
    "#### 3. Number of unique Plant IDs. "
   ]
  },
  {
   "cell_type": "code",
   "execution_count": 51,
   "id": "e470eabb-2892-49a9-9758-dc3013657fb3",
   "metadata": {},
   "outputs": [
    {
     "name": "stdout",
     "output_type": "stream",
     "text": [
      "YEAR                                    int64\n",
      "Plant Id                                int64\n",
      "Combined Heat And Power Plant            bool\n",
      "Plant Name                             object\n",
      "Operator Name                          object\n",
      "Operator Id                           float64\n",
      "Plant State                            object\n",
      "Census Region                          object\n",
      "NERC Region                            object\n",
      "EIA Sector Number                       int64\n",
      "Sector Name                            object\n",
      "NAICS Code                              int64\n",
      "Reported Prime Mover                   object\n",
      "Reported Fuel Type Code                object\n",
      "MER Fuel Type Code                     object\n",
      "Balancing Authority Code               object\n",
      "Physical Unit Label                    object\n",
      "Quantity January                      float64\n",
      "Elec_Quantity January                 float64\n",
      "Grossgen January                      float64\n",
      "Netgen January                        float64\n",
      "Quantity February                     float64\n",
      "Elec_Quantity February                float64\n",
      "Grossgen February                     float64\n",
      "Netgen February                       float64\n",
      "Quantity March                        float64\n",
      "Elec_Quantity March                   float64\n",
      "Grossgen March                        float64\n",
      "Netgen March                          float64\n",
      "Quantity April                        float64\n",
      "Elec_Quantity April                   float64\n",
      "Grossgen April                        float64\n",
      "Netgen April                          float64\n",
      "Quantity May                          float64\n",
      "Elec_Quantity May                     float64\n",
      "Grossgen May                          float64\n",
      "Netgen May                            float64\n",
      "Quantity June                         float64\n",
      "Elec_Quantity June                    float64\n",
      "Grossgen June                         float64\n",
      "Netgen June                           float64\n",
      "Quantity July                         float64\n",
      "Elec_Quantity July                    float64\n",
      "Grossgen July                         float64\n",
      "Netgen July                           float64\n",
      "Quantity August                       float64\n",
      "Elec_Quantity August                  float64\n",
      "Grossgen August                       float64\n",
      "Netgen August                         float64\n",
      "Quantity September                    float64\n",
      "Elec_Quantity September               float64\n",
      "Grossgen September                    float64\n",
      "Netgen September                      float64\n",
      "Quantity October                      float64\n",
      "Elec_Quantity October                 float64\n",
      "Grossgen October                      float64\n",
      "Netgen October                        float64\n",
      "Quantity November                     float64\n",
      "Elec_Quantity November                float64\n",
      "Grossgen November                     float64\n",
      "Netgen November                       float64\n",
      "Quantity December                     float64\n",
      "Elec_Quantity December                float64\n",
      "Grossgen December                     float64\n",
      "Netgen December                       float64\n",
      "Total Fuel Consumption Quantity         int64\n",
      "Electric Fuel Consumption Quantity      int64\n",
      "Gross Generation (Megawatthours)      float64\n",
      "Net Generation (Megawatthours)        float64\n"
     ]
    }
   ],
   "source": [
    "# Define the dtype dictionary based on df_1_USPR\n",
    "dtype_dict = {\n",
    "    'YEAR': 'int64',\n",
    "    'Plant Id': 'int64',\n",
    "    'Combined Heat And Power Plant': 'str',\n",
    "    'Plant Name': 'object',\n",
    "    'Operator Name': 'object',\n",
    "    'Operator Id': 'float64',\n",
    "    'Plant State': 'object',\n",
    "    'Census Region': 'object',\n",
    "    'NERC Region': 'object',\n",
    "    'EIA Sector Number': 'int64',\n",
    "    'Sector Name': 'object',\n",
    "    'NAICS Code': 'int64',\n",
    "    'Reported Prime Mover': 'object',\n",
    "    'Reported Fuel Type Code': 'object',\n",
    "    'MER Fuel Type Code': 'object',\n",
    "    'Balancing Authority Code': 'object',\n",
    "    'Physical Unit Label': 'object'\n",
    "}\n",
    "\n",
    "# Load the CSV with specified dtypes\n",
    "df_3_curated = pd.read_csv('/Users/amyzhang/Desktop/A6_Dashboard/Datasets/EIA Datasets/df_3_curated.csv', dtype=dtype_dict)\n",
    "\n",
    "# List of monthly numeric columns\n",
    "monthly_cols = [\n",
    "    'Quantity January', 'Elec_Quantity January', 'Grossgen January', 'Netgen January',\n",
    "    'Quantity February', 'Elec_Quantity February', 'Grossgen February', 'Netgen February',\n",
    "    'Quantity March', 'Elec_Quantity March', 'Grossgen March', 'Netgen March',\n",
    "    'Quantity April', 'Elec_Quantity April', 'Grossgen April', 'Netgen April',\n",
    "    'Quantity May', 'Elec_Quantity May', 'Grossgen May', 'Netgen May',\n",
    "    'Quantity June', 'Elec_Quantity June', 'Grossgen June', 'Netgen June',\n",
    "    'Quantity July', 'Elec_Quantity July', 'Grossgen July', 'Netgen July',\n",
    "    'Quantity August', 'Elec_Quantity August', 'Grossgen August', 'Netgen August',\n",
    "    'Quantity September', 'Elec_Quantity September', 'Grossgen September', 'Netgen September',\n",
    "    'Quantity October', 'Elec_Quantity October', 'Grossgen October', 'Netgen October',\n",
    "    'Quantity November', 'Elec_Quantity November', 'Grossgen November', 'Netgen November',\n",
    "    'Quantity December', 'Elec_Quantity December', 'Grossgen December', 'Netgen December'\n",
    "]\n",
    "\n",
    "# Convert monthly columns to float64, coercing errors to NaN\n",
    "for col in monthly_cols:\n",
    "    df_3_curated[col] = df_3_curated[col].astype(str).str.replace(',', '', regex=False)\n",
    "    df_3_curated[col] = pd.to_numeric(df_3_curated[col], errors='coerce').astype('float64')\n",
    "\n",
    "# Convert total columns to numeric and coerce errors\n",
    "df_3_curated['Total Fuel Consumption Quantity'] = pd.to_numeric(df_3_curated['Total Fuel Consumption Quantity'], errors='coerce').astype('int64')\n",
    "df_3_curated['Electric Fuel Consumption Quantity'] = pd.to_numeric(df_3_curated['Electric Fuel Consumption Quantity'], errors='coerce').astype('int64')\n",
    "df_3_curated['Gross Generation (Megawatthours)'] = pd.to_numeric(df_3_curated['Gross Generation (Megawatthours)'], errors='coerce').astype('float64')\n",
    "df_3_curated['Net Generation (Megawatthours)'] = pd.to_numeric(df_3_curated['Net Generation (Megawatthours)'], errors='coerce').astype('float64')\n",
    "\n",
    "# Convert 'Operator Id' to float64\n",
    "df_3_curated['Operator Id'] = pd.to_numeric(df_3_curated['Operator Id'], errors='coerce').astype('float64')\n",
    "\n",
    "df_3_curated['Combined Heat And Power Plant'] = df_3_curated['Combined Heat And Power Plant'].map({'Y': True, 'N': False})\n",
    "\n",
    "# Display dtypes and first few rows to confirm\n",
    "print(df_3_curated.dtypes.to_string())\n"
   ]
  },
  {
   "cell_type": "code",
   "execution_count": 52,
   "id": "48233ef6-1d12-487f-a4c6-98c1eeef93d9",
   "metadata": {},
   "outputs": [
    {
     "name": "stdout",
     "output_type": "stream",
     "text": [
      "Saving confirmed: 'df_3_transformed.csv' has been created successfully.\n"
     ]
    }
   ],
   "source": [
    "# Export data to CSV\n",
    "path = '/Users/amyzhang/Desktop/A6_Dashboard/Datasets/EIA Datasets/transformed'\n",
    "output_file = 'df_3_transformed.csv'\n",
    "full_path = os.path.join(path, output_file)\n",
    "\n",
    "# Save the dataframe\n",
    "df_3_curated.to_csv(full_path, index=False)\n",
    "\n",
    "# Check if the file was created successfully\n",
    "if os.path.exists(full_path):\n",
    "    print(f\"Saving confirmed: '{output_file}' has been created successfully.\")\n",
    "else:\n",
    "    print(\"Error: File was not saved.\")\n"
   ]
  },
  {
   "cell_type": "code",
   "execution_count": 53,
   "id": "412ab456-12ce-4fdd-a151-c9bb9fdd1cb4",
   "metadata": {},
   "outputs": [
    {
     "name": "stdout",
     "output_type": "stream",
     "text": [
      "YEAR                                    int64\n",
      "Plant Id                                int64\n",
      "Combined Heat And Power Plant            bool\n",
      "Plant Name                             object\n",
      "Operator Name                          object\n",
      "Operator Id                           float64\n",
      "Plant State                            object\n",
      "Census Region                          object\n",
      "NERC Region                            object\n",
      "EIA Sector Number                       int64\n",
      "Sector Name                            object\n",
      "NAICS Code                              int64\n",
      "Reported Prime Mover                   object\n",
      "Reported Fuel Type Code                object\n",
      "MER Fuel Type Code                     object\n",
      "Balancing Authority Code               object\n",
      "Physical Unit Label                    object\n",
      "Quantity January                      float64\n",
      "Elec_Quantity January                 float64\n",
      "Grossgen January                      float64\n",
      "Netgen January                        float64\n",
      "Quantity February                     float64\n",
      "Elec_Quantity February                float64\n",
      "Grossgen February                     float64\n",
      "Netgen February                       float64\n",
      "Quantity March                        float64\n",
      "Elec_Quantity March                   float64\n",
      "Grossgen March                        float64\n",
      "Netgen March                          float64\n",
      "Quantity April                        float64\n",
      "Elec_Quantity April                   float64\n",
      "Grossgen April                        float64\n",
      "Netgen April                          float64\n",
      "Quantity May                          float64\n",
      "Elec_Quantity May                     float64\n",
      "Grossgen May                          float64\n",
      "Netgen May                            float64\n",
      "Quantity June                         float64\n",
      "Elec_Quantity June                    float64\n",
      "Grossgen June                         float64\n",
      "Netgen June                           float64\n",
      "Quantity July                         float64\n",
      "Elec_Quantity July                    float64\n",
      "Grossgen July                         float64\n",
      "Netgen July                           float64\n",
      "Quantity August                       float64\n",
      "Elec_Quantity August                  float64\n",
      "Grossgen August                       float64\n",
      "Netgen August                         float64\n",
      "Quantity September                    float64\n",
      "Elec_Quantity September               float64\n",
      "Grossgen September                    float64\n",
      "Netgen September                      float64\n",
      "Quantity October                      float64\n",
      "Elec_Quantity October                 float64\n",
      "Grossgen October                      float64\n",
      "Netgen October                        float64\n",
      "Quantity November                     float64\n",
      "Elec_Quantity November                float64\n",
      "Grossgen November                     float64\n",
      "Netgen November                       float64\n",
      "Quantity December                     float64\n",
      "Elec_Quantity December                float64\n",
      "Grossgen December                     float64\n",
      "Netgen December                       float64\n",
      "Total Fuel Consumption Quantity         int64\n",
      "Electric Fuel Consumption Quantity      int64\n",
      "Gross Generation (Megawatthours)      float64\n",
      "Net Generation (Megawatthours)        float64\n"
     ]
    }
   ],
   "source": [
    "import pandas as pd\n",
    "import os\n",
    "\n",
    "# Set the correct file path\n",
    "file_path = '/Users/amyzhang/Desktop/A6_Dashboard/Datasets/EIA Datasets/transformed/df_3_transformed.csv'\n",
    "\n",
    "# Check if the file exists\n",
    "if os.path.exists(file_path):\n",
    "    # Re-import the CSV with specified data types\n",
    "    df_3_transformed = pd.read_csv(file_path)\n",
    "    # Display dtypes\n",
    "    print(df_3_transformed.dtypes.to_string())\n",
    "else:\n",
    "    print(f\"File not found: {file_path}\")\n"
   ]
  },
  {
   "cell_type": "code",
   "execution_count": 54,
   "id": "153de8d0-70e2-4dd8-8e89-3486ebcf6624",
   "metadata": {},
   "outputs": [
    {
     "name": "stdout",
     "output_type": "stream",
     "text": [
      "Number of duplicate rows: 0\n",
      "Empty DataFrame\n",
      "Columns: [YEAR, Plant Id, Combined Heat And Power Plant, Plant Name, Operator Name, Operator Id, Plant State, Census Region, NERC Region, EIA Sector Number, Sector Name, NAICS Code, Reported Prime Mover, Reported Fuel Type Code, MER Fuel Type Code, Balancing Authority Code, Physical Unit Label, Quantity January, Elec_Quantity January, Grossgen January, Netgen January, Quantity February, Elec_Quantity February, Grossgen February, Netgen February, Quantity March, Elec_Quantity March, Grossgen March, Netgen March, Quantity April, Elec_Quantity April, Grossgen April, Netgen April, Quantity May, Elec_Quantity May, Grossgen May, Netgen May, Quantity June, Elec_Quantity June, Grossgen June, Netgen June, Quantity July, Elec_Quantity July, Grossgen July, Netgen July, Quantity August, Elec_Quantity August, Grossgen August, Netgen August, Quantity September, Elec_Quantity September, Grossgen September, Netgen September, Quantity October, Elec_Quantity October, Grossgen October, Netgen October, Quantity November, Elec_Quantity November, Grossgen November, Netgen November, Quantity December, Elec_Quantity December, Grossgen December, Netgen December, Total Fuel Consumption Quantity, Electric Fuel Consumption Quantity, Gross Generation (Megawatthours), Net Generation (Megawatthours)]\n",
      "Index: []\n"
     ]
    }
   ],
   "source": [
    "# Show all columns so that we can see all the data\n",
    "pd.set_option('display.max_columns', None)\n",
    "\n",
    "# Based on df3_curated.csv: Energy storage Plants, here is the composite key\n",
    "composite_key = ['Plant Id', 'YEAR', 'Reported Prime Mover', 'Combined Heat And Power Plant', 'Reported Fuel Type Code', 'Balancing Authority Code', 'Plant State', 'EIA Sector Number']\n",
    "\n",
    "# Check for duplicates based on the composite key\n",
    "duplicates = df_3_transformed.duplicated(subset=composite_key, keep=False)\n",
    "\n",
    "# Print the number of duplicate rows\n",
    "print(f\"Number of duplicate rows: {df_3_transformed[duplicates].shape[0]}\")\n",
    "# Print the duplicate rows\n",
    "print(df_3_transformed[duplicates])\n"
   ]
  },
  {
   "cell_type": "code",
   "execution_count": 55,
   "id": "0e668b1b-c953-405a-958e-53cfc342be51",
   "metadata": {},
   "outputs": [
    {
     "name": "stdout",
     "output_type": "stream",
     "text": [
      "Total number of unique Plant Ids: 503\n"
     ]
    }
   ],
   "source": [
    "unique_plant_count_3 = df_3_transformed['Plant Id'].nunique()\n",
    "print(f\"Total number of unique Plant Ids: {unique_plant_count_3}\")"
   ]
  },
  {
   "cell_type": "markdown",
   "id": "4e8ff65d-c346-4756-90f7-2e02bf075585",
   "metadata": {},
   "source": [
    "# Step 3. Time to move on to the df_18 (Cooling System Information)...\n",
    "\n",
    "#### 1. Data Type and Description: Import df_18_curated with data dictionary; export to new csv; re-import (as df_18_transformed); confirm composite key.\n",
    "#### 2. Unique Plant Id count. \n",
    "#### 3. Check if df_18_transformed (Cooling System Information) contains Plant Id values that also exist in df_1_USPR (Power Plants) and df_3_transformed (Energy Storage Plants)."
   ]
  },
  {
   "cell_type": "code",
   "execution_count": 57,
   "id": "1f2ff19a-e146-420d-a312-f2c84242b0e1",
   "metadata": {},
   "outputs": [
    {
     "name": "stdout",
     "output_type": "stream",
     "text": [
      "Year                                       int64\n",
      "Month                                      int64\n",
      "Plant Id                                   int64\n",
      "Cooling_System_ID                         object\n",
      "Type_of_Cooling_System                    object\n",
      "Cooling_System_Status                     object\n",
      "Hours_in_Service                         float64\n",
      "Diversion_Rate_(gallons_per_minute)      float64\n",
      "Withdrawal_Rate_(gallons_per_minute)     float64\n",
      "Discharge_Rate_(gallons_per_minute)      float64\n",
      "Consumption_Rate_(gallons_per_minute)    float64\n",
      "Intake_Average_Temperature_(ºF)          float64\n",
      "Intake_Maximum_Temperature_(ºF)          float64\n",
      "Discharge_Average_Temperature_(ºF)       float64\n",
      "Discharge_Maximum_Temperature_(ºF)       float64\n",
      "Diversion_Volume_(million_gallons)       float64\n",
      "Withdrawal_Volume_(million_gallons)      float64\n",
      "Discharge_Volume_(million_gallons)       float64\n",
      "Consumption_Volume_(million_gallons)     float64\n",
      "\n",
      "Sample data:\n",
      "   Year  Month  Plant Id Cooling_System_ID  \\\n",
      "0  2023      1         3               1-3   \n",
      "1  2023      1         3               4-5   \n",
      "2  2023      1         3               U6C   \n",
      "3  2023      1         3               U7C   \n",
      "4  2023      2         3               1-3   \n",
      "\n",
      "                             Type_of_Cooling_System Cooling_System_Status  \\\n",
      "0  Once through without cooling pond(s) or canal(s)                    OP   \n",
      "1  Once through without cooling pond(s) or canal(s)                    OP   \n",
      "2    Recirculating with Induced Draft Cooling Tower                    OP   \n",
      "3    Recirculating with Induced Draft Cooling Tower                    OP   \n",
      "4  Once through without cooling pond(s) or canal(s)                    OP   \n",
      "\n",
      "   Hours_in_Service  Diversion_Rate_(gallons_per_minute)  \\\n",
      "0             744.0                                  NaN   \n",
      "1             744.0                                  NaN   \n",
      "2             744.0                                  NaN   \n",
      "3             744.0                                  NaN   \n",
      "4             672.0                                  NaN   \n",
      "\n",
      "   Withdrawal_Rate_(gallons_per_minute)  Discharge_Rate_(gallons_per_minute)  \\\n",
      "0                                2167.0                               2167.0   \n",
      "1                              235878.0                             235340.0   \n",
      "2                                   NaN                                  NaN   \n",
      "3                                   NaN                                  NaN   \n",
      "4                                2167.0                               2167.0   \n",
      "\n",
      "   Consumption_Rate_(gallons_per_minute)  Intake_Average_Temperature_(ºF)  \\\n",
      "0                                    0.0                             54.0   \n",
      "1                                  538.0                             54.0   \n",
      "2                                 1500.0                              NaN   \n",
      "3                                 1424.0                              NaN   \n",
      "4                                    0.0                             53.0   \n",
      "\n",
      "   Intake_Maximum_Temperature_(ºF)  Discharge_Average_Temperature_(ºF)  \\\n",
      "0                             57.0                                61.0   \n",
      "1                             57.0                                61.0   \n",
      "2                              NaN                                 NaN   \n",
      "3                              NaN                                 NaN   \n",
      "4                             64.0                                57.0   \n",
      "\n",
      "   Discharge_Maximum_Temperature_(ºF)  Diversion_Volume_(million_gallons)  \\\n",
      "0                                75.0                                 NaN   \n",
      "1                                75.0                                 NaN   \n",
      "2                                 NaN                                 NaN   \n",
      "3                                 NaN                                 NaN   \n",
      "4                                73.0                                 NaN   \n",
      "\n",
      "   Withdrawal_Volume_(million_gallons)  Discharge_Volume_(million_gallons)  \\\n",
      "0                                96.72                               96.72   \n",
      "1                             10529.59                            10505.56   \n",
      "2                                  NaN                                 NaN   \n",
      "3                                  NaN                                 NaN   \n",
      "4                                96.72                               96.72   \n",
      "\n",
      "   Consumption_Volume_(million_gallons)  \n",
      "0                                  0.00  \n",
      "1                                 24.03  \n",
      "2                                 66.96  \n",
      "3                                 63.55  \n",
      "4                                  0.00  \n"
     ]
    }
   ],
   "source": [
    "import pandas as pd\n",
    "import numpy as np\n",
    "\n",
    "# Load df_18_curated.csv (Cooling System Information)\n",
    "df_18_transformed = pd.read_csv('/Users/amyzhang/Desktop/A6_Dashboard/Datasets/EIA Datasets/df_18_curated.csv')\n",
    "\n",
    "# List of columns where you want to replace '.' with NaN and remove parentheses\n",
    "cols_to_clean = [\n",
    "    'Hours_in_Service',\n",
    "    'Diversion_Rate_(gallons_per_minute)',\n",
    "    'Withdrawal_Rate_(gallons_per_minute)',\n",
    "    'Discharge_Rate_(gallons_per_minute)',\n",
    "    'Consumption_Rate_(gallons_per_minute)',\n",
    "    'Intake_Average_Temperature_(ºF)',\n",
    "    'Intake_Maximum_Temperature_(ºF)',\n",
    "    'Discharge_Average_Temperature_(ºF)',\n",
    "    'Discharge_Maximum_Temperature_(ºF)',\n",
    "    'Diversion_Volume_(million_gallons)',\n",
    "    'Withdrawal_Volume_(million_gallons)',\n",
    "    'Discharge_Volume_(million_gallons)',\n",
    "    'Consumption_Volume_(million_gallons)'\n",
    "]\n",
    "\n",
    "# Function to clean numeric columns\n",
    "def clean_column(col):\n",
    "    col = col.astype(str).str.replace(r'\\(.*?\\)', '', regex=True)  # Remove parentheses and their contents\n",
    "    col = col.replace('.', np.nan)  # Replace '.' with NaN\n",
    "    return pd.to_numeric(col, errors='coerce')  # Convert to numeric, coercing errors to NaN\n",
    "\n",
    "# Apply the cleaning function to each specified column\n",
    "for column in cols_to_clean:\n",
    "    if column in df_18_transformed.columns:\n",
    "        df_18_transformed[column] = clean_column(df_18_transformed[column])\n",
    "\n",
    "# Define the dtype dictionary based on alignment with df_1_USPR and df_3_transformed\n",
    "dtype_dict = {\n",
    "    'Year': 'int64',  # Aligns with YEAR in df_1_USPR and df_3_transformed\n",
    "    'Month': 'int64',  # Aligns with monthly data in other DataFrames\n",
    "    'Plant Id': 'int64',  # Ensure consistency across all datasets\n",
    "    'Cooling_System_ID': 'object',  # Unique identifier specific to this dataset\n",
    "    'Type_of_Cooling_System': 'object',\n",
    "    'Cooling_System_Status': 'str',\n",
    "    'Hours_in_Service': 'float64',\n",
    "    'Diversion_Rate_(gallons_per_minute)': 'float64',\n",
    "    'Withdrawal_Rate_(gallons_per_minute)': 'float64',\n",
    "    'Discharge_Rate_(gallons_per_minute)': 'float64',\n",
    "    'Consumption_Rate_(gallons_per_minute)': 'float64',\n",
    "    'Intake_Average_Temperature_(ºF)': 'float64',\n",
    "    'Intake_Maximum_Temperature_(ºF)': 'float64',\n",
    "    'Discharge_Average_Temperature_(ºF)': 'float64',\n",
    "    'Discharge_Maximum_Temperature_(ºF)': 'float64',\n",
    "    'Diversion_Volume_(million_gallons)': 'float64',\n",
    "    'Withdrawal_Volume_(million_gallons)': 'float64',\n",
    "    'Discharge_Volume_(million_gallons)': 'float64',\n",
    "    'Consumption_Volume_(million_gallons)': 'float64'\n",
    "}\n",
    "\n",
    "# Apply the data types from dtype_dict\n",
    "for col, dtype in dtype_dict.items():\n",
    "    if col in df_18_transformed.columns:\n",
    "        try:\n",
    "            df_18_transformed[col] = df_18_transformed[col].astype(dtype)\n",
    "        except ValueError as e:\n",
    "            print(f\"Could not convert column {col} to {dtype}: {e}\")\n",
    "\n",
    "# Print the data types to verify alignment\n",
    "print(df_18_transformed.dtypes.to_string())\n",
    "\n",
    "# Verify alignment with df_1_USPR and df_3_transformed\n",
    "print(\"\\nSample data:\")\n",
    "print(df_18_transformed.head())\n"
   ]
  },
  {
   "cell_type": "code",
   "execution_count": 58,
   "id": "61c210dd-d039-4610-9e08-07cba7763ea8",
   "metadata": {},
   "outputs": [
    {
     "name": "stdout",
     "output_type": "stream",
     "text": [
      "Saving confirmed: 'df_18_transformed.csv' has been created successfully.\n"
     ]
    }
   ],
   "source": [
    "# Export data to CSV\n",
    "path = '/Users/amyzhang/Desktop/A6_Dashboard/Datasets/EIA Datasets/transformed'\n",
    "output_file = 'df_18_transformed.csv'\n",
    "full_path = os.path.join(path, output_file)\n",
    "\n",
    "# Save the dataframe\n",
    "df_18_transformed.to_csv(full_path, index=False)\n",
    "\n",
    "# Check if the file was created successfully\n",
    "if os.path.exists(full_path):\n",
    "    print(f\"Saving confirmed: '{output_file}' has been created successfully.\")\n",
    "else:\n",
    "    print(\"Error: File was not saved.\")\n"
   ]
  },
  {
   "cell_type": "code",
   "execution_count": 59,
   "id": "f66b8701-dc98-4e3f-8bb7-8d2ec3ad36c9",
   "metadata": {},
   "outputs": [
    {
     "name": "stdout",
     "output_type": "stream",
     "text": [
      "Year                                       int64\n",
      "Month                                      int64\n",
      "Plant Id                                   int64\n",
      "Cooling_System_ID                         object\n",
      "Type_of_Cooling_System                    object\n",
      "Cooling_System_Status                     object\n",
      "Hours_in_Service                         float64\n",
      "Diversion_Rate_(gallons_per_minute)      float64\n",
      "Withdrawal_Rate_(gallons_per_minute)     float64\n",
      "Discharge_Rate_(gallons_per_minute)      float64\n",
      "Consumption_Rate_(gallons_per_minute)    float64\n",
      "Intake_Average_Temperature_(ºF)          float64\n",
      "Intake_Maximum_Temperature_(ºF)          float64\n",
      "Discharge_Average_Temperature_(ºF)       float64\n",
      "Discharge_Maximum_Temperature_(ºF)       float64\n",
      "Diversion_Volume_(million_gallons)       float64\n",
      "Withdrawal_Volume_(million_gallons)      float64\n",
      "Discharge_Volume_(million_gallons)       float64\n",
      "Consumption_Volume_(million_gallons)     float64\n"
     ]
    }
   ],
   "source": [
    "import pandas as pd\n",
    "import os\n",
    "\n",
    "# Set the correct file path\n",
    "file_path = '/Users/amyzhang/Desktop/A6_Dashboard/Datasets/EIA Datasets/transformed/df_18_transformed.csv'\n",
    "\n",
    "# Check if the file exists\n",
    "if os.path.exists(file_path):\n",
    "    # Re-import the CSV with specified data types\n",
    "    df_18_transformed = pd.read_csv(file_path)\n",
    "    # Display dtypes\n",
    "    print(df_18_transformed.dtypes.to_string())\n",
    "else:\n",
    "    print(f\"File not found: {file_path}\")\n"
   ]
  },
  {
   "cell_type": "code",
   "execution_count": 60,
   "id": "e12bc7f0-ffc6-4179-b51a-196bb6ec02d8",
   "metadata": {},
   "outputs": [
    {
     "name": "stdout",
     "output_type": "stream",
     "text": [
      "Number of duplicate rows: 0\n",
      "Empty DataFrame\n",
      "Columns: [Year, Month, Plant Id, Cooling_System_ID, Type_of_Cooling_System, Cooling_System_Status, Hours_in_Service, Diversion_Rate_(gallons_per_minute), Withdrawal_Rate_(gallons_per_minute), Discharge_Rate_(gallons_per_minute), Consumption_Rate_(gallons_per_minute), Intake_Average_Temperature_(ºF), Intake_Maximum_Temperature_(ºF), Discharge_Average_Temperature_(ºF), Discharge_Maximum_Temperature_(ºF), Diversion_Volume_(million_gallons), Withdrawal_Volume_(million_gallons), Discharge_Volume_(million_gallons), Consumption_Volume_(million_gallons)]\n",
      "Index: []\n"
     ]
    }
   ],
   "source": [
    "# Show all columns so that we can see all the data\n",
    "pd.set_option('display.max_columns', None)\n",
    "\n",
    "composite_key_18 = ['Year', 'Month', 'Plant Id', 'Cooling_System_ID']\n",
    "\n",
    "# Check for duplicates based on the composite key\n",
    "duplicates_18 = df_18_transformed.duplicated(subset=composite_key_18, keep=False)\n",
    "\n",
    "# Print the number of duplicate rows\n",
    "print(f\"Number of duplicate rows: {df_18_transformed[duplicates_18].shape[0]}\")\n",
    "# Print the duplicate rows\n",
    "print(df_18_transformed[duplicates_18])\n"
   ]
  },
  {
   "cell_type": "code",
   "execution_count": 61,
   "id": "62c7258a-383a-455c-beea-00d98aef1e25",
   "metadata": {},
   "outputs": [
    {
     "name": "stdout",
     "output_type": "stream",
     "text": [
      "Total number of unique Plant Ids: 768\n"
     ]
    }
   ],
   "source": [
    "unique_plant_count_18 = df_18_transformed['Plant Id'].nunique()\n",
    "print(f\"Total number of unique Plant Ids: {unique_plant_count_18}\")"
   ]
  },
  {
   "cell_type": "code",
   "execution_count": 62,
   "id": "3969c33a-3923-4209-8cbc-a8fcbbbbb114",
   "metadata": {},
   "outputs": [
    {
     "name": "stdout",
     "output_type": "stream",
     "text": [
      "Total unique Plant IDs in df_1_USPR: 12354\n",
      "Total unique Plant IDs in df_3_transformed: 503\n",
      "Total unique Plant IDs in df_18_transformed: 768\n",
      "Number of unique Plant IDs from df_1_USPR found in df_18_transformed: 768\n",
      "Number of unique Plant IDs from df_3_transformed found in df_18_transformed: 10\n",
      "Sample unique Plant IDs common between df_1_USPR and df_18_transformed: [2049, 2050, 3, 6145, 6146]\n",
      "Sample unique Plant IDs common between df_3_transformed and df_18_transformed: [1507, 260, 389, 645, 56812]\n"
     ]
    }
   ],
   "source": [
    "# Get unique Plant IDs from each dataframe\n",
    "unique_plant_ids_1 = set(df_1_USPR['Plant Id'].unique())\n",
    "unique_plant_ids_3 = set(df_3_transformed['Plant Id'].unique())\n",
    "unique_plant_ids_18 = set(df_18_transformed['Plant Id'].unique())\n",
    "\n",
    "# Find the intersection of unique Plant IDs\n",
    "common_unique_plant_ids_1_18 = unique_plant_ids_1.intersection(unique_plant_ids_18)\n",
    "common_unique_plant_ids_3_18 = unique_plant_ids_3.intersection(unique_plant_ids_18)\n",
    "\n",
    "# Print the results\n",
    "print(f\"Total unique Plant IDs in df_1_USPR: {len(unique_plant_ids_1)}\")\n",
    "print(f\"Total unique Plant IDs in df_3_transformed: {len(unique_plant_ids_3)}\")\n",
    "print(f\"Total unique Plant IDs in df_18_transformed: {len(unique_plant_ids_18)}\")\n",
    "print(f\"Number of unique Plant IDs from df_1_USPR found in df_18_transformed: {len(common_unique_plant_ids_1_18)}\")\n",
    "print(f\"Number of unique Plant IDs from df_3_transformed found in df_18_transformed: {len(common_unique_plant_ids_3_18)}\")\n",
    "\n",
    "# Print a few common unique Plant IDs\n",
    "print(f\"Sample unique Plant IDs common between df_1_USPR and df_18_transformed: {list(common_unique_plant_ids_1_18)[:5]}\")\n",
    "print(f\"Sample unique Plant IDs common between df_3_transformed and df_18_transformed: {list(common_unique_plant_ids_3_18)[:5]}\")\n"
   ]
  },
  {
   "cell_type": "code",
   "execution_count": 63,
   "id": "9be7a528-c03f-4973-a4f9-fe72b3e118ee",
   "metadata": {},
   "outputs": [
    {
     "name": "stdout",
     "output_type": "stream",
     "text": [
      "Total unique Plant IDs in df_1_USPR: 12354\n",
      "Total unique Plant IDs in df_3_transformed: 503\n",
      "Total unique Plant IDs in df_18_transformed: 768\n",
      "Number of unique Plant IDs common between df_1_USPR and df_3_transformed: 503\n",
      "Sample of common Plant IDs between df_1_USPR and df_3_transformed: [6151, 6163, 63510, 6167, 65568]\n",
      "Plot saved to /Users/amyzhang/Desktop/A6_Dashboard/Datasets/EIA Datasets/viz/UniquePlantId_1_3_18.png\n"
     ]
    },
    {
     "data": {
      "image/png": "[encoded data removed]",
      "text/plain": [
       "<Figure size 640x480 with 1 Axes>"
      ]
     },
     "metadata": {},
     "output_type": "display_data"
    }
   ],
   "source": [
    "import os\n",
    "import matplotlib.pyplot as plt\n",
    "from matplotlib_venn import venn3\n",
    "\n",
    "# Rest of your code remains the same\n",
    "# Get unique Plant IDs from each dataframe\n",
    "unique_plant_ids_1 = set(df_1_USPR['Plant Id'].unique())\n",
    "unique_plant_ids_3 = set(df_3_transformed['Plant Id'].unique())\n",
    "unique_plant_ids_18 = set(df_18_transformed['Plant Id'].unique())\n",
    "\n",
    "# Find the intersection between df_1_USPR and df_3_transformed\n",
    "common_unique_plant_ids_1_3 = unique_plant_ids_1.intersection(unique_plant_ids_3)\n",
    "\n",
    "# Print the results\n",
    "print(f\"Total unique Plant IDs in df_1_USPR: {len(unique_plant_ids_1)}\")\n",
    "print(f\"Total unique Plant IDs in df_3_transformed: {len(unique_plant_ids_3)}\")\n",
    "print(f\"Total unique Plant IDs in df_18_transformed: {len(unique_plant_ids_18)}\")\n",
    "print(f\"Number of unique Plant IDs common between df_1_USPR and df_3_transformed: {len(common_unique_plant_ids_1_3)}\")\n",
    "print(f\"Sample of common Plant IDs between df_1_USPR and df_3_transformed: {list(common_unique_plant_ids_1_3)[:5]}\")\n",
    "\n",
    "# Create the Venn diagram\n",
    "fig, ax = plt.subplots()\n",
    "venn3([unique_plant_ids_1, unique_plant_ids_3, unique_plant_ids_18], \n",
    "      set_labels=('df_1_USPR', 'df_3_transformed', 'df_18_transformed'))\n",
    "plt.title(\"Overlap of Unique Plant IDs across Datasets\")\n",
    "\n",
    "# Save the plot\n",
    "path = r'/Users/amyzhang/Desktop/A6_Dashboard/Datasets/EIA Datasets/viz'\n",
    "save_path = os.path.join(path, 'UniquePlantId_1_3_18.png')\n",
    "plt.savefig(save_path, format='png', dpi=300)\n",
    "\n",
    "# Print confirmation\n",
    "print(f\"Plot saved to {save_path}\")\n",
    "\n",
    "# Show the plot (optional, if you want to display it as well)\n",
    "plt.show()\n"
   ]
  },
  {
   "cell_type": "markdown",
   "id": "3097b900-db11-4053-831c-f3e027b5d5e8",
   "metadata": {},
   "source": [
    "# Step 4 - Last but not least (for 2023): Cooling Boiler Generator Detail\n",
    "#### 1. Data Type and Description: Import df_19_curated with data dictionary; export to new csv; re-import (as df_19_transformed); confirm composite key.\n",
    "#### 2. Unique Plant Id count. \n",
    "#### 3. Check if df_19_transformed (Cooling Boiler Generator Detail) contains the Plant Id values and Cooling_System_ID's that also exist in df_18_transformed. Decide how to merge. "
   ]
  },
  {
   "cell_type": "code",
   "execution_count": 65,
   "id": "8050c91e-309b-4bc2-9aa5-5912b4b41e8c",
   "metadata": {},
   "outputs": [
    {
     "name": "stdout",
     "output_type": "stream",
     "text": [
      "Could not convert Cooling_Inservice_Month to int64: cannot convert NA to integer\n",
      "Could not convert Cooling_Inservice_Year to int64: cannot convert NA to integer\n",
      "State                                                               object\n",
      "Plant Id                                                             int64\n",
      "Year                                                                 int64\n",
      "Month                                                                int64\n",
      "Generator_ID                                                        object\n",
      "Boiler_ID                                                           object\n",
      "Cooling_System_ID                                                   object\n",
      "Generator_Primary_Technology                                        object\n",
      "Fuel_Consumption_from_All_Fuel_Types_(MMBTU)                       float64\n",
      "Fuel_Consumption_from_Steam_Turbines_(MMBTU)                       float64\n",
      "Fuel_Consumption_from_Single_Shaft_Combined_Cycle_Units_(MMBTU)    float64\n",
      "Fuel_Consumption_from_Combined_Cycle_Gas_Turbines_(MMBTU)          float64\n",
      "Coal_Consumption_(MMBTU)                                           float64\n",
      "Natural_Gas_Consumption_(MMBTU)                                    float64\n",
      "Petroleum_Consumption_(MMBTU)                                      float64\n",
      "Cooling_Unit_Hours_in_Service                                      float64\n",
      "Cooling_System_Type                                                 object\n",
      "Water_Type                                                          object\n",
      "Water_Source                                                        object\n",
      "Water_Source_Name                                                   object\n",
      "Water_Discharge_Name                                                object\n",
      "Cooling_Status                                                      object\n",
      "Cooling_Inservice_Month                                              Int64\n",
      "Cooling_Inservice_Year                                               Int64\n",
      "Combined_Heat_and_Power_Generator?                                    bool\n",
      "dtype: object\n"
     ]
    }
   ],
   "source": [
    "import pandas as pd\n",
    "import numpy as np\n",
    "\n",
    "# Load df_19_curated.csv (Cooling Boiler Generator Data)\n",
    "df_19_transformed = pd.read_csv('/Users/amyzhang/Desktop/A6_Dashboard/Datasets/EIA Datasets/df_19_curated.csv')\n",
    "\n",
    "# Rename columns\n",
    "df_19_transformed.rename(columns={'Plant_Code': 'Plant Id', 'Cooling_ID': 'Cooling_System_ID'}, inplace=True)\n",
    "\n",
    "# Define the dtype dictionary\n",
    "dtype_dict = {\n",
    "    'Plant Id': 'int64',  # Changed to int64 to match other dataframes\n",
    "    'Year': 'int64',  # Changed to int64\n",
    "    'Month': 'int64',  # Changed to int64\n",
    "    'Generator_ID': 'object',\n",
    "    'Boiler_ID': 'object',\n",
    "    'Cooling_System_ID': 'object',\n",
    "    'Generator_Primary_Technology': 'object',\n",
    "    'Fuel_Consumption_from_All_Fuel_Types_(MMBTU)': 'float64',\n",
    "    'Fuel_Consumption_from_Steam_Turbines_(MMBTU)': 'float64',\n",
    "    'Fuel_Consumption_from_Single_Shaft_Combined_Cycle_Units_(MMBTU)': 'float64',\n",
    "    'Fuel_Consumption_from_Combined_Cycle_Gas_Turbines_(MMBTU)': 'float64',\n",
    "    'Coal_Consumption_(MMBTU)': 'float64',\n",
    "    'Natural_Gas_Consumption_(MMBTU)': 'float64',\n",
    "    'Petroleum_Consumption_(MMBTU)': 'float64',\n",
    "    'Cooling_Unit_Hours_in_Service': 'float64',\n",
    "    'Cooling_System_Type': 'object',\n",
    "    'Water_Type': 'object',\n",
    "    'Water_Source': 'object',\n",
    "    'Water_Source_Name': 'object',\n",
    "    'Water_Discharge_Name': 'object',\n",
    "    'Cooling_Status': 'object',\n",
    "    'Cooling_Inservice_Month': 'int64',  # Changed to int64\n",
    "    'Cooling_Inservice_Year': 'int64',  # Changed to int64\n",
    "    'Combined_Heat_and_Power_Generator?': 'bool'  # Changed to bool directly\n",
    "}\n",
    "\n",
    "# List of columns where you want to replace '.' with NaN\n",
    "cols_to_clean = [\n",
    "    'Fuel_Consumption_from_All_Fuel_Types_(MMBTU)',\n",
    "    'Fuel_Consumption_from_Steam_Turbines_(MMBTU)',\n",
    "    'Fuel_Consumption_from_Single_Shaft_Combined_Cycle_Units_(MMBTU)',\n",
    "    'Fuel_Consumption_from_Combined_Cycle_Gas_Turbines_(MMBTU)',\n",
    "    'Coal_Consumption_(MMBTU)',\n",
    "    'Natural_Gas_Consumption_(MMBTU)',\n",
    "    'Petroleum_Consumption_(MMBTU)',\n",
    "    'Cooling_Unit_Hours_in_Service',\n",
    "]\n",
    "\n",
    "# Function to replace '.' with NaN and convert to numeric\n",
    "def clean_column(col):\n",
    "    return pd.to_numeric(col.replace('.', np.nan), errors='coerce')\n",
    "\n",
    "# Apply the cleaning function to each specified column\n",
    "for column in cols_to_clean:\n",
    "    df_19_transformed[column] = clean_column(df_19_transformed[column])\n",
    "\n",
    "df_19_transformed['Cooling_Inservice_Month'] = df_19_transformed['Cooling_Inservice_Month'].replace(r'^\\s*$', np.nan, regex=True)\n",
    "df_19_transformed['Cooling_Inservice_Year'] = df_19_transformed['Cooling_Inservice_Year'].replace(r'^\\s*$', np.nan, regex=True)\n",
    "df_19_transformed['Cooling_Inservice_Month'] = df_19_transformed['Cooling_Inservice_Month'].astype('Int64')\n",
    "df_19_transformed['Cooling_Inservice_Year'] = df_19_transformed['Cooling_Inservice_Year'].astype('Int64')\n",
    "\n",
    "\n",
    "\n",
    "# Convert 'Combined_Heat_and_Power_Generator?' to boolean (handle blanks)\n",
    "df_19_transformed['Combined_Heat_and_Power_Generator?'] = df_19_transformed['Combined_Heat_and_Power_Generator?'].map({'Y': True, 'N': False})\n",
    "\n",
    "# Apply the data types from dtype_dict\n",
    "for col, dtype in dtype_dict.items():\n",
    "    if col in df_19_transformed.columns:\n",
    "        try:\n",
    "            df_19_transformed[col] = df_19_transformed[col].astype(dtype)\n",
    "        except ValueError as e:\n",
    "            print(f\"Could not convert {col} to {dtype}: {e}\")\n",
    "\n",
    "# Print the data types to verify the change\n",
    "print(df_19_transformed.dtypes)\n"
   ]
  },
  {
   "cell_type": "code",
   "execution_count": 66,
   "id": "833e1300-dfb7-4af1-b60a-e7a39da633ef",
   "metadata": {},
   "outputs": [
    {
     "name": "stdout",
     "output_type": "stream",
     "text": [
      "Saving confirmed: 'df_19_transformed.csv' has been created successfully.\n"
     ]
    }
   ],
   "source": [
    "# Export data to CSV\n",
    "path = '/Users/amyzhang/Desktop/A6_Dashboard/Datasets/EIA Datasets/transformed'\n",
    "output_file = 'df_19_transformed.csv'\n",
    "full_path = os.path.join(path, output_file)\n",
    "\n",
    "# Save the dataframe\n",
    "df_19_transformed.to_csv(full_path, index=False)\n",
    "\n",
    "# Check if the file was created successfully\n",
    "if os.path.exists(full_path):\n",
    "    print(f\"Saving confirmed: '{output_file}' has been created successfully.\")\n",
    "else:\n",
    "    print(\"Error: File was not saved.\")\n"
   ]
  },
  {
   "cell_type": "code",
   "execution_count": 67,
   "id": "9cc4c71f-21a3-4d26-ba32-a7086a40f397",
   "metadata": {},
   "outputs": [
    {
     "name": "stdout",
     "output_type": "stream",
     "text": [
      "State                                                               object\n",
      "Plant Id                                                             int64\n",
      "Year                                                                 int64\n",
      "Month                                                                int64\n",
      "Generator_ID                                                        object\n",
      "Boiler_ID                                                           object\n",
      "Cooling_System_ID                                                   object\n",
      "Generator_Primary_Technology                                        object\n",
      "Fuel_Consumption_from_All_Fuel_Types_(MMBTU)                       float64\n",
      "Fuel_Consumption_from_Steam_Turbines_(MMBTU)                       float64\n",
      "Fuel_Consumption_from_Single_Shaft_Combined_Cycle_Units_(MMBTU)    float64\n",
      "Fuel_Consumption_from_Combined_Cycle_Gas_Turbines_(MMBTU)          float64\n",
      "Coal_Consumption_(MMBTU)                                           float64\n",
      "Natural_Gas_Consumption_(MMBTU)                                    float64\n",
      "Petroleum_Consumption_(MMBTU)                                      float64\n",
      "Cooling_Unit_Hours_in_Service                                      float64\n",
      "Cooling_System_Type                                                 object\n",
      "Water_Type                                                          object\n",
      "Water_Source                                                        object\n",
      "Water_Source_Name                                                   object\n",
      "Water_Discharge_Name                                                object\n",
      "Cooling_Status                                                      object\n",
      "Cooling_Inservice_Month                                            float64\n",
      "Cooling_Inservice_Year                                             float64\n",
      "Combined_Heat_and_Power_Generator?                                    bool\n"
     ]
    }
   ],
   "source": [
    "# Set the correct file path\n",
    "file_path = '/Users/amyzhang/Desktop/A6_Dashboard/Datasets/EIA Datasets/transformed/df_19_transformed.csv'\n",
    "\n",
    "# Check if the file exists\n",
    "if os.path.exists(file_path):\n",
    "    # Re-import the CSV with specified data types\n",
    "    df_19_transformed = pd.read_csv(file_path)\n",
    "    # Display dtypes\n",
    "    print(df_19_transformed.dtypes.to_string())\n",
    "else:\n",
    "    print(f\"File not found: {file_path}\")\n"
   ]
  },
  {
   "cell_type": "code",
   "execution_count": 68,
   "id": "0129a13e-11d0-417c-be95-ec067e6cbd21",
   "metadata": {},
   "outputs": [
    {
     "name": "stdout",
     "output_type": "stream",
     "text": [
      "Number of duplicate rows: 0\n",
      "Empty DataFrame\n",
      "Columns: [State, Plant Id, Year, Month, Generator_ID, Boiler_ID, Cooling_System_ID, Generator_Primary_Technology, Fuel_Consumption_from_All_Fuel_Types_(MMBTU), Fuel_Consumption_from_Steam_Turbines_(MMBTU), Fuel_Consumption_from_Single_Shaft_Combined_Cycle_Units_(MMBTU), Fuel_Consumption_from_Combined_Cycle_Gas_Turbines_(MMBTU), Coal_Consumption_(MMBTU), Natural_Gas_Consumption_(MMBTU), Petroleum_Consumption_(MMBTU), Cooling_Unit_Hours_in_Service, Cooling_System_Type, Water_Type, Water_Source, Water_Source_Name, Water_Discharge_Name, Cooling_Status, Cooling_Inservice_Month, Cooling_Inservice_Year, Combined_Heat_and_Power_Generator?]\n",
      "Index: []\n"
     ]
    }
   ],
   "source": [
    "# Show all columns so that we can see all the data\n",
    "pd.set_option('display.max_columns', None)\n",
    "\n",
    "# Based on df19_curated.csv: Cooling System Information, here is the composite key\n",
    "composite_key_19 = ['Year', 'Month', 'Plant Id', 'Cooling_System_ID', 'Generator_ID', 'Boiler_ID']\n",
    "\n",
    "# Check for duplicates based on the composite key\n",
    "duplicates_19 = df_19_transformed.duplicated(subset=composite_key_19, keep=False)\n",
    "\n",
    "# Print the number of duplicate rows\n",
    "print(f\"Number of duplicate rows: {df_19_transformed[duplicates_19].shape[0]}\")\n",
    "\n",
    "# Print the duplicate rows\n",
    "print(df_19_transformed[duplicates_19])\n"
   ]
  },
  {
   "cell_type": "code",
   "execution_count": 69,
   "id": "484bb804-be94-4e47-9456-96baba7ab64a",
   "metadata": {},
   "outputs": [
    {
     "name": "stdout",
     "output_type": "stream",
     "text": [
      "Total number of unique Plant Ids: 926\n"
     ]
    }
   ],
   "source": [
    "unique_plant_count_19 = df_19_transformed['Plant Id'].nunique()\n",
    "print(f\"Total number of unique Plant Ids: {unique_plant_count_19}\")"
   ]
  },
  {
   "cell_type": "code",
   "execution_count": 70,
   "id": "a6453131-98ac-46b8-bcb3-2355d036c380",
   "metadata": {},
   "outputs": [
    {
     "name": "stdout",
     "output_type": "stream",
     "text": [
      "Plot saved to /Users/amyzhang/Desktop/A6_Dashboard/Datasets/EIA Datasets/viz/UniquePlantId_18_19.png\n"
     ]
    },
    {
     "data": {
      "image/png": "[encoded data removed]",
      "text/plain": [
       "<Figure size 1000x600 with 1 Axes>"
      ]
     },
     "metadata": {},
     "output_type": "display_data"
    }
   ],
   "source": [
    "import os\n",
    "from matplotlib_venn import venn2\n",
    "import matplotlib.pyplot as plt\n",
    "\n",
    "# Get unique Plant IDs from each dataframe\n",
    "plant_ids_18 = set(df_18_transformed['Plant Id'].unique())\n",
    "plant_ids_19 = set(df_19_transformed['Plant Id'].unique())\n",
    "\n",
    "# Create the Venn diagram\n",
    "plt.figure(figsize=(10, 6))\n",
    "v = venn2([plant_ids_18, plant_ids_19], \n",
    "          set_labels=('df_18_transformed', 'df_19_transformed'))\n",
    "\n",
    "# Add a legend\n",
    "plt.legend(v.patches, ['df_18_transformed', 'df_19_transformed', 'Overlap'], \n",
    "           loc='center left', bbox_to_anchor=(1, 0.5))\n",
    "\n",
    "plt.title(\"Overlap of Unique Plant IDs between df_18_transformed and df_19_transformed\")\n",
    "plt.tight_layout()\n",
    "\n",
    "# Save the plot\n",
    "path = r'/Users/amyzhang/Desktop/A6_Dashboard/Datasets/EIA Datasets/viz'\n",
    "save_path = os.path.join(path, 'UniquePlantId_18_19.png')\n",
    "plt.savefig(save_path, format='png', dpi=300, bbox_inches='tight')\n",
    "\n",
    "# Print confirmation\n",
    "print(f\"Plot saved to {save_path}\")\n",
    "\n",
    "# Show the plot (optional, if you want to display it as well)\n",
    "plt.show()\n"
   ]
  },
  {
   "cell_type": "code",
   "execution_count": 71,
   "id": "dff077d5-98d1-47ce-8dea-db3058ff497f",
   "metadata": {},
   "outputs": [
    {
     "name": "stdout",
     "output_type": "stream",
     "text": [
      "Unique Plant IDs in df_18: 768\n",
      "Unique Plant IDs in df_19: 926\n"
     ]
    }
   ],
   "source": [
    "plant_ids_18 = set(df_18_transformed['Plant Id'].unique())\n",
    "plant_ids_19 = set(df_19_transformed['Plant Id'].unique())\n",
    "\n",
    "print(f\"Unique Plant IDs in df_18: {len(plant_ids_18)}\")\n",
    "print(f\"Unique Plant IDs in df_19: {len(plant_ids_19)}\")\n"
   ]
  },
  {
   "cell_type": "code",
   "execution_count": 72,
   "id": "952f25b6-63e7-463d-b28a-7f08bce1017e",
   "metadata": {},
   "outputs": [
    {
     "name": "stdout",
     "output_type": "stream",
     "text": [
      "Plant IDs in both datasets: 766\n",
      "Plant IDs only in df_18: 2\n",
      "Plant IDs only in df_19: 160\n"
     ]
    }
   ],
   "source": [
    "overlap = plant_ids_18.intersection(plant_ids_19)\n",
    "only_in_18 = plant_ids_18 - plant_ids_19\n",
    "only_in_19 = plant_ids_19 - plant_ids_18\n",
    "\n",
    "print(f\"Plant IDs in both datasets: {len(overlap)}\")\n",
    "print(f\"Plant IDs only in df_18: {len(only_in_18)}\")\n",
    "print(f\"Plant IDs only in df_19: {len(only_in_19)}\")\n"
   ]
  },
  {
   "cell_type": "code",
   "execution_count": 73,
   "id": "c5be7d82-bbbe-43bf-9d6c-7fb7fd9bde7e",
   "metadata": {},
   "outputs": [
    {
     "name": "stdout",
     "output_type": "stream",
     "text": [
      "Rows for Plant IDs only in df_18: 36\n",
      "Rows for Plant IDs only in df_19: 8088\n",
      "Rows for overlapping Plant IDs: 14347\n"
     ]
    }
   ],
   "source": [
    "df_18_only = df_18_transformed[df_18_transformed['Plant Id'].isin(only_in_18)]\n",
    "df_19_only = df_19_transformed[df_19_transformed['Plant Id'].isin(only_in_19)]\n",
    "df_overlap = df_18_transformed[df_18_transformed['Plant Id'].isin(overlap)]\n",
    "\n",
    "print(f\"Rows for Plant IDs only in df_18: {len(df_18_only)}\")\n",
    "print(f\"Rows for Plant IDs only in df_19: {len(df_19_only)}\")\n",
    "print(f\"Rows for overlapping Plant IDs: {len(df_overlap)}\")\n"
   ]
  },
  {
   "cell_type": "code",
   "execution_count": 74,
   "id": "3cc36838-b1cf-4527-9c96-292420e69fe1",
   "metadata": {},
   "outputs": [
    {
     "name": "stdout",
     "output_type": "stream",
     "text": [
      "Saving confirmed: 'df_18_only.csv' has been created successfully.\n"
     ]
    }
   ],
   "source": [
    "# Export data to CSV\n",
    "path = '/Users/amyzhang/Desktop/A6_Dashboard/Datasets/EIA Datasets/transformed'\n",
    "output_file = 'df_18_only.csv'\n",
    "full_path = os.path.join(path, output_file)\n",
    "\n",
    "# Save the dataframe\n",
    "df_18_only.to_csv(full_path, index=False)\n",
    "\n",
    "# Check if the file was created successfully\n",
    "if os.path.exists(full_path):\n",
    "    print(f\"Saving confirmed: '{output_file}' has been created successfully.\")\n",
    "else:\n",
    "    print(\"Error: File was not saved.\")\n"
   ]
  },
  {
   "cell_type": "code",
   "execution_count": 75,
   "id": "9e6f6a5e-c4bd-4d0a-b784-893292530add",
   "metadata": {},
   "outputs": [
    {
     "name": "stdout",
     "output_type": "stream",
     "text": [
      "Saving confirmed: 'df_19_only.csv' has been created successfully.\n"
     ]
    }
   ],
   "source": [
    "# Export data to CSV\n",
    "path = '/Users/amyzhang/Desktop/A6_Dashboard/Datasets/EIA Datasets/transformed'\n",
    "output_file = 'df_19_only.csv'\n",
    "full_path = os.path.join(path, output_file)\n",
    "\n",
    "# Save the dataframe\n",
    "df_19_only.to_csv(full_path, index=False)\n",
    "\n",
    "# Check if the file was created successfully\n",
    "if os.path.exists(full_path):\n",
    "    print(f\"Saving confirmed: '{output_file}' has been created successfully.\")\n",
    "else:\n",
    "    print(\"Error: File was not saved.\")\n"
   ]
  },
  {
   "cell_type": "markdown",
   "id": "0ba35483-d081-4956-8f26-5fa4313e0440",
   "metadata": {},
   "source": [
    "### Before committing to merging Cooling System Information with Cooling Boiler Generator Detail, just trying to figure out whether the Plant Id's make sense. "
   ]
  },
  {
   "cell_type": "code",
   "execution_count": 77,
   "id": "fb23180e-cd6e-4529-9f5e-7611b8acb7b2",
   "metadata": {},
   "outputs": [],
   "source": [
    "# Step 1: Extract Unique Plant Ids\n",
    "#Get unique Plant IDs from df_1_USPR and df_3_transformed\n",
    "plant_ids_1 = set(df_1_USPR['Plant Id'].unique())\n",
    "plant_ids_3 = set(df_3_transformed['Plant Id'].unique())\n",
    "\n",
    "# Get unique Plant IDs only in df_19\n",
    "plant_ids_19_only = set(df_19_only['Plant Id'].unique())\n"
   ]
  },
  {
   "cell_type": "code",
   "execution_count": 78,
   "id": "2b2c161c-3cd5-4dd2-9013-6fec260cf6de",
   "metadata": {},
   "outputs": [
    {
     "name": "stdout",
     "output_type": "stream",
     "text": [
      "Number of Plant IDs in df_19_only that overlap with df_1_USPR: 40\n",
      "Number of Plant IDs in df_19_only that overlap with df_3_transformed: 2\n",
      "Number of Plant IDs in df_19_only that overlap with both df_1_USPR and df_3_transformed: 2\n"
     ]
    }
   ],
   "source": [
    "# Step 2: Check overlaps\n",
    "# Check overlaps with df_1_USPR\n",
    "overlap_with_df_1 = plant_ids_19_only.intersection(plant_ids_1)\n",
    "print(f\"Number of Plant IDs in df_19_only that overlap with df_1_USPR: {len(overlap_with_df_1)}\")\n",
    "\n",
    "# Check overlaps with df_3_transformed\n",
    "overlap_with_df_3 = plant_ids_19_only.intersection(plant_ids_3)\n",
    "print(f\"Number of Plant IDs in df_19_only that overlap with df_3_transformed: {len(overlap_with_df_3)}\")\n",
    "\n",
    "# Check overlaps with both df_1_USPR and df_3_transformed\n",
    "overlap_with_both = plant_ids_19_only.intersection(plant_ids_1, plant_ids_3)\n",
    "print(f\"Number of Plant IDs in df_19_only that overlap with both df_1_USPR and df_3_transformed: {len(overlap_with_both)}\")\n"
   ]
  },
  {
   "cell_type": "code",
   "execution_count": 79,
   "id": "a59f79cd-84b9-4c57-8976-602464bf5f40",
   "metadata": {},
   "outputs": [
    {
     "name": "stdout",
     "output_type": "stream",
     "text": [
      "Rows in df_overlap_with_df_1: 2556\n",
      "Rows in df_overlap_with_df_3: 84\n",
      "Rows in df_overlap_with_both: 84\n"
     ]
    }
   ],
   "source": [
    "# Step 3 Investigate overlapping Ids\n",
    "# Create a dataframe for overlaps with df_1_USPR\n",
    "df_overlap_with_df_1 = df_19_only[df_19_only['Plant Id'].isin(overlap_with_df_1)]\n",
    "\n",
    "# Create a dataframe for overlaps with df_3_transformed\n",
    "df_overlap_with_df_3 = df_19_only[df_19_only['Plant Id'].isin(overlap_with_df_3)]\n",
    "\n",
    "# Create a dataframe for overlaps with both\n",
    "df_overlap_with_both = df_19_only[df_19_only['Plant Id'].isin(overlap_with_both)]\n",
    "\n",
    "# Print some details\n",
    "print(f\"Rows in df_overlap_with_df_1: {len(df_overlap_with_df_1)}\")\n",
    "print(f\"Rows in df_overlap_with_df_3: {len(df_overlap_with_df_3)}\")\n",
    "print(f\"Rows in df_overlap_with_both: {len(df_overlap_with_both)}\")\n"
   ]
  },
  {
   "cell_type": "code",
   "execution_count": 80,
   "id": "2aa8ec02-086f-4231-94b9-bcdcc8d98b57",
   "metadata": {},
   "outputs": [
    {
     "name": "stderr",
     "output_type": "stream",
     "text": [
      "/var/folders/6r/kznwmt6j1rsfwtfplchqpwj00000gn/T/ipykernel_57214/344404673.py:10: UserWarning: Legend does not support handles for NoneType instances.\n",
      "A proxy artist may be used instead.\n",
      "See: https://matplotlib.org/stable/users/explain/axes/legend_guide.html#controlling-the-legend-entries\n",
      "  plt.legend(v.patches, ['df_19_only', 'df_1_USPR', 'df_3_transformed',\n"
     ]
    },
    {
     "data": {
      "image/png": "[encoded data removed]",
      "text/plain": [
       "<Figure size 1000x600 with 1 Axes>"
      ]
     },
     "metadata": {},
     "output_type": "display_data"
    }
   ],
   "source": [
    "from matplotlib_venn import venn3\n",
    "import matplotlib.pyplot as plt\n",
    "\n",
    "plt.figure(figsize=(10, 6))\n",
    "v = venn3([plant_ids_19_only, plant_ids_1, plant_ids_3], \n",
    "          set_labels=('df_19_only', 'df_1_USPR', 'df_3_transformed'))\n",
    "plt.title(\"Overlap of Unique Plant IDs\")\n",
    "\n",
    "# Add a legend\n",
    "plt.legend(v.patches, ['df_19_only', 'df_1_USPR', 'df_3_transformed', \n",
    "                       'df_19_only & df_1_USPR', 'df_19_only & df_3_transformed', \n",
    "                       'df_1_USPR & df_3_transformed', 'All three'],\n",
    "           loc='center left', bbox_to_anchor=(1, 0.5))\n",
    "\n",
    "plt.tight_layout()\n",
    "plt.show()\n"
   ]
  },
  {
   "cell_type": "code",
   "execution_count": 81,
   "id": "f62d4c4e-eccd-4f2d-8108-1168c6bebd6e",
   "metadata": {},
   "outputs": [
    {
     "name": "stdout",
     "output_type": "stream",
     "text": [
      "Number of Plant IDs in df_18_only that overlap with df_1_USPR: 2\n",
      "Number of Plant IDs in df_18_only that overlap with df_3_transformed: 0\n",
      "Number of Plant IDs in df_18_only that overlap with both df_1_USPR and df_3_transformed: 0\n",
      "Rows in df_18_overlap_with_df_1: 36\n",
      "Rows in df_18_overlap_with_df_3: 0\n",
      "Rows in df_18_overlap_with_both: 0\n"
     ]
    },
    {
     "name": "stderr",
     "output_type": "stream",
     "text": [
      "/var/folders/6r/kznwmt6j1rsfwtfplchqpwj00000gn/T/ipykernel_57214/1319774148.py:29: UserWarning: Legend does not support handles for NoneType instances.\n",
      "A proxy artist may be used instead.\n",
      "See: https://matplotlib.org/stable/users/explain/axes/legend_guide.html#controlling-the-legend-entries\n",
      "  plt.legend(v.patches, ['df_18_only', 'df_1_USPR', 'df_3_transformed',\n"
     ]
    },
    {
     "data": {
      "image/png": "[encoded data removed]",
      "text/plain": [
       "<Figure size 1000x600 with 1 Axes>"
      ]
     },
     "metadata": {},
     "output_type": "display_data"
    }
   ],
   "source": [
    "# Get unique Plant IDs from df_18_only\n",
    "plant_ids_18_only = set(df_18_only['Plant Id'].unique())\n",
    "\n",
    "# Check overlaps with df_1_USPR and df_3_transformed\n",
    "overlap_18_with_df_1 = plant_ids_18_only.intersection(plant_ids_1)\n",
    "overlap_18_with_df_3 = plant_ids_18_only.intersection(plant_ids_3)\n",
    "overlap_18_with_both = plant_ids_18_only.intersection(plant_ids_1, plant_ids_3)\n",
    "\n",
    "print(f\"Number of Plant IDs in df_18_only that overlap with df_1_USPR: {len(overlap_18_with_df_1)}\")\n",
    "print(f\"Number of Plant IDs in df_18_only that overlap with df_3_transformed: {len(overlap_18_with_df_3)}\")\n",
    "print(f\"Number of Plant IDs in df_18_only that overlap with both df_1_USPR and df_3_transformed: {len(overlap_18_with_both)}\")\n",
    "\n",
    "# Create dataframes for overlaps\n",
    "df_18_overlap_with_df_1 = df_18_only[df_18_only['Plant Id'].isin(overlap_18_with_df_1)]\n",
    "df_18_overlap_with_df_3 = df_18_only[df_18_only['Plant Id'].isin(overlap_18_with_df_3)]\n",
    "df_18_overlap_with_both = df_18_only[df_18_only['Plant Id'].isin(overlap_18_with_both)]\n",
    "\n",
    "print(f\"Rows in df_18_overlap_with_df_1: {len(df_18_overlap_with_df_1)}\")\n",
    "print(f\"Rows in df_18_overlap_with_df_3: {len(df_18_overlap_with_df_3)}\")\n",
    "print(f\"Rows in df_18_overlap_with_both: {len(df_18_overlap_with_both)}\")\n",
    "\n",
    "# Create Venn diagram for df_18_only\n",
    "plt.figure(figsize=(10, 6))\n",
    "v = venn3([plant_ids_18_only, plant_ids_1, plant_ids_3], \n",
    "          set_labels=('df_18_only', 'df_1_USPR', 'df_3_transformed'))\n",
    "plt.title(\"Overlap of Unique Plant IDs (df_18_only)\")\n",
    "\n",
    "# Add a legend\n",
    "plt.legend(v.patches, ['df_18_only', 'df_1_USPR', 'df_3_transformed', \n",
    "                       'df_18_only & df_1_USPR', 'df_18_only & df_3_transformed', \n",
    "                       'df_1_USPR & df_3_transformed', 'All three'],\n",
    "           loc='center left', bbox_to_anchor=(1, 0.5))\n",
    "\n",
    "plt.tight_layout()\n",
    "plt.show()\n"
   ]
  },
  {
   "cell_type": "markdown",
   "id": "337f291f-1c8e-4252-b371-b55b9271003c",
   "metadata": {},
   "source": [
    "#### Key Observations (attribution: Perplexity (Instance ID: Perplexity-20250320-1119))\n",
    "\n",
    "##### Disproportionate Overlap for df_19_only:\n",
    "- While only **40 unique Plant IDs** from df_19_only overlap with df_1_USPR, this translates to a whopping **2556 rows**.\n",
    "  - This suggests that many of these overlapping plants have multiple records (e.g., different months, cooling systems, or generators).\n",
    "- Similarly, while only **2 unique Plant IDs** overlap with both datasets (df_1_USPR and df_3_transformed), this still results in **84 rows**.\n",
    "\n",
    "##### Minimal Overlap for df_18_only:\n",
    "- The overlap for unique Plant IDs is very small (**only 2 with df_1_USPR**) and nonexistent for df_3_transformed.\n",
    "- The row-level overlaps reflect this minimal connection—only **36 rows** overlap with df_1_USPR.\n",
    "\n",
    "##### No Connection Between df_18_only and df_3_transformed:\n",
    "- There is no shared data between these two datasets at the unique Plant ID level.\n"
   ]
  },
  {
   "cell_type": "markdown",
   "id": "a168479e-1e22-4176-b2d7-e5eeec8dfe89",
   "metadata": {},
   "source": [
    "# Step 5. Merge"
   ]
  },
  {
   "cell_type": "code",
   "execution_count": 151,
   "id": "83762320-6452-463a-93d3-abebb1b0d785",
   "metadata": {},
   "outputs": [
    {
     "name": "stderr",
     "output_type": "stream",
     "text": [
      "/var/folders/6r/kznwmt6j1rsfwtfplchqpwj00000gn/T/ipykernel_57214/3086032302.py:51: FutureWarning: A value is trying to be set on a copy of a DataFrame or Series through chained assignment using an inplace method.\n",
      "The behavior will change in pandas 3.0. This inplace method will never work because the intermediate object on which we are setting values always behaves as a copy.\n",
      "\n",
      "For example, when doing 'df[col].method(value, inplace=True)', try using 'df.method({col: value}, inplace=True)' or df[col] = df[col].method(value) instead, to perform the operation inplace on the original object.\n",
      "\n",
      "\n",
      "  merged_df[col].fillna('Unknown', inplace=True)\n",
      "/var/folders/6r/kznwmt6j1rsfwtfplchqpwj00000gn/T/ipykernel_57214/3086032302.py:53: FutureWarning: A value is trying to be set on a copy of a DataFrame or Series through chained assignment using an inplace method.\n",
      "The behavior will change in pandas 3.0. This inplace method will never work because the intermediate object on which we are setting values always behaves as a copy.\n",
      "\n",
      "For example, when doing 'df[col].method(value, inplace=True)', try using 'df.method({col: value}, inplace=True)' or df[col] = df[col].method(value) instead, to perform the operation inplace on the original object.\n",
      "\n",
      "\n",
      "  merged_df[col].fillna(np.nan, inplace=True)\n"
     ]
    },
    {
     "name": "stdout",
     "output_type": "stream",
     "text": [
      "<class 'pandas.core.frame.DataFrame'>\n",
      "RangeIndex: 83081 entries, 0 to 83080\n",
      "Data columns (total 33 columns):\n",
      " #   Column                                        Non-Null Count  Dtype  \n",
      "---  ------                                        --------------  -----  \n",
      " 0   State                                         83081 non-null  object \n",
      " 1   Year                                          83081 non-null  int64  \n",
      " 2   Month                                         83081 non-null  int64  \n",
      " 3   Plant Id                                      83081 non-null  int64  \n",
      " 4   Cooling_System_ID                             83081 non-null  object \n",
      " 5   Generator_ID                                  83081 non-null  object \n",
      " 6   Boiler_ID                                     83081 non-null  object \n",
      " 7   Generator_Primary_Technology                  83081 non-null  object \n",
      " 8   Fuel_Consumption_from_All_Fuel_Types_(MMBTU)  64179 non-null  float64\n",
      " 9   Coal_Consumption_(MMBTU)                      12235 non-null  float64\n",
      " 10  Natural_Gas_Consumption_(MMBTU)               59688 non-null  float64\n",
      " 11  Petroleum_Consumption_(MMBTU)                 19395 non-null  float64\n",
      " 12  Water_Type                                    83081 non-null  object \n",
      " 13  Water_Source                                  83081 non-null  object \n",
      " 14  Water_Source_Name                             83081 non-null  object \n",
      " 15  Water_Discharge_Name                          83081 non-null  object \n",
      " 16  Combined_Heat_and_Power_Generator?            83081 non-null  object \n",
      " 17  Type_of_Cooling_System                        83081 non-null  object \n",
      " 18  Diversion_Rate_(gallons_per_minute)           24571 non-null  float64\n",
      " 19  Withdrawal_Rate_(gallons_per_minute)          54023 non-null  float64\n",
      " 20  Discharge_Rate_(gallons_per_minute)           47241 non-null  float64\n",
      " 21  Consumption_Rate_(gallons_per_minute)         50450 non-null  float64\n",
      " 22  Intake_Average_Temperature_(ºF)               32646 non-null  float64\n",
      " 23  Intake_Maximum_Temperature_(ºF)               32463 non-null  float64\n",
      " 24  Discharge_Average_Temperature_(ºF)            33246 non-null  float64\n",
      " 25  Discharge_Maximum_Temperature_(ºF)            33056 non-null  float64\n",
      " 26  Diversion_Volume_(million_gallons)            24385 non-null  float64\n",
      " 27  Withdrawal_Volume_(million_gallons)           53897 non-null  float64\n",
      " 28  Discharge_Volume_(million_gallons)            47170 non-null  float64\n",
      " 29  Consumption_Volume_(million_gallons)          50391 non-null  float64\n",
      " 30  in_df_18_only                                 83081 non-null  bool   \n",
      " 31  in_df_19_only                                 83081 non-null  bool   \n",
      " 32  Hours_in_Service                              62752 non-null  float64\n",
      "dtypes: bool(2), float64(17), int64(3), object(11)\n",
      "memory usage: 19.8+ MB\n",
      "\n",
      "Merged Dataset Info:\n",
      "None\n",
      "\n",
      "Total Rows: 83081\n",
      "Rows only in df_18: 149\n",
      "Rows only in df_19: 19409\n",
      "Rows in both datasets: 63523\n"
     ]
    },
    {
     "data": {
      "image/png": "[encoded data removed]",
      "text/plain": [
       "<Figure size 640x480 with 1 Axes>"
      ]
     },
     "metadata": {},
     "output_type": "display_data"
    }
   ],
   "source": [
    "# Step 1: Load the datasets\n",
    "df_18 = df_18_transformed  \n",
    "df_19 = df_19_transformed  \n",
    "\n",
    "# Step 2: Select relevant columns from each dataset\n",
    "df_18_cols = [\n",
    "    'Year', 'Month', 'Plant Id', 'Cooling_System_ID', 'Type_of_Cooling_System', 'Hours_in_Service',\n",
    "    'Diversion_Rate_(gallons_per_minute)', 'Withdrawal_Rate_(gallons_per_minute)',\n",
    "    'Discharge_Rate_(gallons_per_minute)', 'Consumption_Rate_(gallons_per_minute)',\n",
    "    'Intake_Average_Temperature_(ºF)', 'Intake_Maximum_Temperature_(ºF)',\n",
    "    'Discharge_Average_Temperature_(ºF)', 'Discharge_Maximum_Temperature_(ºF)',\n",
    "    'Diversion_Volume_(million_gallons)', 'Withdrawal_Volume_(million_gallons)',\n",
    "    'Discharge_Volume_(million_gallons)', 'Consumption_Volume_(million_gallons)'\n",
    "]\n",
    "\n",
    "df_19_cols = [\n",
    "    'State', 'Year', 'Month', 'Plant Id', 'Cooling_System_ID', 'Generator_ID', 'Boiler_ID',\n",
    "    'Generator_Primary_Technology', 'Fuel_Consumption_from_All_Fuel_Types_(MMBTU)',\n",
    "    'Coal_Consumption_(MMBTU)', 'Natural_Gas_Consumption_(MMBTU)',\n",
    "    'Petroleum_Consumption_(MMBTU)', 'Cooling_Unit_Hours_in_Service',\n",
    "    'Water_Type', 'Water_Source', 'Water_Source_Name', 'Water_Discharge_Name',\n",
    "    'Combined_Heat_and_Power_Generator?'\n",
    "]\n",
    "\n",
    "# Step 3: Create subsets of the original dataframes\n",
    "df_18_subset = df_18.reindex(columns=df_18_cols)\n",
    "df_19_subset = df_19.reindex(columns=df_19_cols)\n",
    "\n",
    "# Step 4: Rename columns to avoid conflicts\n",
    "df_18_subset.rename(columns={'Hours_in_Service': 'Hours_in_Service_18'}, inplace=True)\n",
    "df_19_subset.rename(columns={'Cooling_Unit_Hours_in_Service': 'Hours_in_Service_19'}, inplace=True)\n",
    "\n",
    "# Step 5: Merge the datasets\n",
    "merged_df = pd.merge(df_19_subset, df_18_subset, \n",
    "                     on=['Year', 'Month', 'Plant Id', 'Cooling_System_ID'], \n",
    "                     how='outer', \n",
    "                     indicator=True)\n",
    "\n",
    "# Step 6: Create flags for rows present only in one dataset\n",
    "merged_df['in_df_18_only'] = merged_df['_merge'].map(lambda x: x == 'right_only')\n",
    "merged_df['in_df_19_only'] = merged_df['_merge'].map(lambda x: x == 'left_only')\n",
    "merged_df.drop('_merge', axis=1, inplace=True)\n",
    "\n",
    "# Step 7: Combine Hours_in_Service columns\n",
    "merged_df['Hours_in_Service'] = merged_df['Hours_in_Service_18'].combine_first(merged_df['Hours_in_Service_19'])\n",
    "merged_df.drop(['Hours_in_Service_18', 'Hours_in_Service_19'], axis=1, inplace=True)\n",
    "\n",
    "# Step 8: Handle missing data\n",
    "for col in merged_df.columns:\n",
    "    if merged_df[col].dtype == 'object':\n",
    "        merged_df[col].fillna('Unknown', inplace=True)\n",
    "    else:\n",
    "        merged_df[col].fillna(np.nan, inplace=True)\n",
    "\n",
    "# Print info about the merged dataset\n",
    "print(f\"\\nMerged Dataset Info:\\n{merged_df.info()}\")\n",
    "print(f\"\\nTotal Rows: {len(merged_df)}\")\n",
    "print(f\"Rows only in df_18: {merged_df['in_df_18_only'].sum()}\")\n",
    "print(f\"Rows only in df_19: {merged_df['in_df_19_only'].sum()}\")\n",
    "print(f\"Rows in both datasets: {len(merged_df) - merged_df['in_df_18_only'].sum() - merged_df['in_df_19_only'].sum()}\")\n",
    "\n",
    "# Visualization of merge results\n",
    "counts = [\n",
    "    merged_df['in_df_18_only'].sum(),\n",
    "    merged_df['in_df_19_only'].sum(),\n",
    "    len(merged_df) - merged_df['in_df_18_only'].sum() - merged_df['in_df_19_only'].sum()\n",
    "]\n",
    "labels = ['Only in df_18', 'Only in df_19', 'In Both']\n",
    "\n",
    "plt.bar(labels, counts, color=['blue', 'orange', 'green'])\n",
    "plt.title('Distribution of Rows Across Datasets')\n",
    "plt.ylabel('Row Count')\n",
    "plt.show()\n"
   ]
  },
  {
   "cell_type": "markdown",
   "id": "ec3509c7-8aaa-4b3a-a4c9-3493a9aab440",
   "metadata": {},
   "source": [
    "#### Dataset Size (attribution: Perplexity (Instance ID: Perplexity-20250320-1119))\n",
    "\n",
    "| Category | Count |\n",
    "|----------|-------|\n",
    "| Total rows | 83,081 |\n",
    "| Rows only in df_18 | 149 |\n",
    "| Rows only in df_19 | 19,409 |\n",
    "| Rows in both datasets | 63,523 |\n",
    "\n",
    "#### Column Analysis:\n",
    "- We have 31 columns in total, which matches our expectations.\n",
    "- The key columns (Year, Month, Plant Id, Cooling_System_ID) have no null values, which is good.\n",
    "- Generator_ID, Boiler_ID, and other categorical columns from df_19 have no null values, likely due to our 'Unknown' fill.\n",
    "\n",
    "#### Missing Data:\n",
    "Water-related metrics (from df_18) have significant missing data. For example:\n",
    "- Withdrawal_Rate_(gallons_per_minute): 54,023 non-null out of 83,081\n",
    "- Consumption_Volume_(million_gallons): 50,391 non-null out of 83,081\n",
    "- Fuel consumption metrics also have missing data, especially for coal and petroleum.\n",
    "\n",
    "#### Data Types:\n",
    "- Most numeric columns are float64, which is appropriate for these metrics.\n",
    "- We have boolean flags for rows only in df_18 or df_19.\n",
    "\n",
    "#### Warnings:\n",
    "We're getting FutureWarnings about inplace operations on DataFrame copies. This doesn't affect our current results but should be addressed in future versions.\n"
   ]
  },
  {
   "cell_type": "code",
   "execution_count": 153,
   "id": "5000ebf1-be17-471c-b76d-526b560a0dd2",
   "metadata": {},
   "outputs": [
    {
     "name": "stdout",
     "output_type": "stream",
     "text": [
      "Saving confirmed: 'MERGE_water_df.csv' has been created successfully.\n"
     ]
    }
   ],
   "source": [
    "# Export data to CSV\n",
    "path = '/Users/amyzhang/Desktop/A6_Dashboard/Datasets/EIA Datasets/transformed'\n",
    "output_file = 'MERGE_water_df.csv'\n",
    "full_path = os.path.join(path, output_file)\n",
    "\n",
    "# Save the dataframe\n",
    "merged_df.to_csv(full_path, index=False)\n",
    "\n",
    "# Check if the file was created successfully\n",
    "if os.path.exists(full_path):\n",
    "    print(f\"Saving confirmed: '{output_file}' has been created successfully.\")\n",
    "else:\n",
    "    print(\"Error: File was not saved.\")\n"
   ]
  },
  {
   "cell_type": "code",
   "execution_count": 155,
   "id": "07e3bcee-a0f3-49c4-8fae-622c2094cd3b",
   "metadata": {},
   "outputs": [
    {
     "name": "stdout",
     "output_type": "stream",
     "text": [
      "State                                            object\n",
      "Year                                              int64\n",
      "Month                                             int64\n",
      "Plant Id                                          int64\n",
      "Cooling_System_ID                                object\n",
      "Generator_ID                                     object\n",
      "Boiler_ID                                        object\n",
      "Generator_Primary_Technology                     object\n",
      "Fuel_Consumption_from_All_Fuel_Types_(MMBTU)    float64\n",
      "Coal_Consumption_(MMBTU)                        float64\n",
      "Natural_Gas_Consumption_(MMBTU)                 float64\n",
      "Petroleum_Consumption_(MMBTU)                   float64\n",
      "Water_Type                                       object\n",
      "Water_Source                                     object\n",
      "Water_Source_Name                                object\n",
      "Water_Discharge_Name                             object\n",
      "Combined_Heat_and_Power_Generator?               object\n",
      "Type_of_Cooling_System                           object\n",
      "Diversion_Rate_(gallons_per_minute)             float64\n",
      "Withdrawal_Rate_(gallons_per_minute)            float64\n",
      "Discharge_Rate_(gallons_per_minute)             float64\n",
      "Consumption_Rate_(gallons_per_minute)           float64\n",
      "Intake_Average_Temperature_(ºF)                 float64\n",
      "Intake_Maximum_Temperature_(ºF)                 float64\n",
      "Discharge_Average_Temperature_(ºF)              float64\n",
      "Discharge_Maximum_Temperature_(ºF)              float64\n",
      "Diversion_Volume_(million_gallons)              float64\n",
      "Withdrawal_Volume_(million_gallons)             float64\n",
      "Discharge_Volume_(million_gallons)              float64\n",
      "Consumption_Volume_(million_gallons)            float64\n",
      "in_df_18_only                                      bool\n",
      "in_df_19_only                                      bool\n",
      "Hours_in_Service                                float64\n"
     ]
    }
   ],
   "source": [
    "# Set the correct file path\n",
    "file_path = '/Users/amyzhang/Desktop/A6_Dashboard/Datasets/EIA Datasets/transformed/MERGE_water_df.csv'\n",
    "\n",
    "# Check if the file exists\n",
    "if os.path.exists(file_path):\n",
    "    # Re-import the CSV with specified data types\n",
    "    water_df = pd.read_csv(file_path)\n",
    "    # Display dtypes\n",
    "    print(water_df.dtypes.to_string())\n",
    "else:\n",
    "    print(f\"File not found: {file_path}\")\n"
   ]
  },
  {
   "cell_type": "code",
   "execution_count": 137,
   "id": "87ca2df1-dadc-4ccd-90fd-64a9b8cb489a",
   "metadata": {},
   "outputs": [
    {
     "data": {
      "text/plain": [
       "(83081, 32)"
      ]
     },
     "execution_count": 137,
     "metadata": {},
     "output_type": "execute_result"
    }
   ],
   "source": [
    "water_df.shape"
   ]
  },
  {
   "cell_type": "code",
   "execution_count": 138,
   "id": "4e35ea91-0639-47a2-8677-67764eeda77e",
   "metadata": {},
   "outputs": [
    {
     "data": {
      "text/plain": [
       "Index(['YEAR', 'Plant Id', 'Nuclear Unit Id', 'Combined Heat And Power Plant',\n",
       "       'Plant Name', 'Operator Name', 'Operator Id', 'Plant State',\n",
       "       'Census Region', 'NERC Region', 'EIA Sector Number', 'Sector Name',\n",
       "       'NAICS Code', 'Reported Prime Mover', 'Reported Fuel Type Code',\n",
       "       'MER Fuel Type Code', 'Balancing Authority Code', 'Physical Unit Label',\n",
       "       'Tot_MMBtu January', 'Elec_MMBtu January', 'Netgen January',\n",
       "       'Tot_MMBtu February', 'Elec_MMBtu February', 'Netgen February',\n",
       "       'Tot_MMBtu March', 'Elec_MMBtu March', 'Netgen March',\n",
       "       'Tot_MMBtu April', 'Elec_MMBtu April', 'Netgen April', 'Tot_MMBtu May',\n",
       "       'Elec_MMBtu May', 'Netgen May', 'Tot_MMBtu June', 'Elec_MMBtu June',\n",
       "       'Netgen June', 'Tot_MMBtu July', 'Elec_MMBtu July', 'Netgen July',\n",
       "       'Tot_MMBtu August', 'Elec_MMBtu August', 'Netgen August',\n",
       "       'Tot_MMBtu September', 'Elec_MMBtu September', 'Netgen September',\n",
       "       'Tot_MMBtu October', 'Elec_MMBtu October', 'Netgen October',\n",
       "       'Tot_MMBtu November', 'Elec_MMBtu November', 'Netgen November',\n",
       "       'Tot_MMBtu December', 'Elec_MMBtu December', 'Netgen December',\n",
       "       'Total Fuel Consumption MMBtu', 'Elec Fuel Consumption MMBtu',\n",
       "       'Net Generation (Megawatthours)'],\n",
       "      dtype='object')"
      ]
     },
     "execution_count": 138,
     "metadata": {},
     "output_type": "execute_result"
    }
   ],
   "source": [
    "df_1_USPR.columns"
   ]
  },
  {
   "cell_type": "code",
   "execution_count": 139,
   "id": "5bacc558-d2ef-4390-abf8-5ef98b189876",
   "metadata": {},
   "outputs": [
    {
     "data": {
      "text/plain": [
       "Index(['YEAR', 'Plant Id', 'Combined Heat And Power Plant', 'Plant Name',\n",
       "       'Operator Name', 'Operator Id', 'Plant State', 'Census Region',\n",
       "       'NERC Region', 'EIA Sector Number', 'Sector Name', 'NAICS Code',\n",
       "       'Reported Prime Mover', 'Reported Fuel Type Code', 'MER Fuel Type Code',\n",
       "       'Balancing Authority Code', 'Physical Unit Label', 'Quantity January',\n",
       "       'Elec_Quantity January', 'Grossgen January', 'Netgen January',\n",
       "       'Quantity February', 'Elec_Quantity February', 'Grossgen February',\n",
       "       'Netgen February', 'Quantity March', 'Elec_Quantity March',\n",
       "       'Grossgen March', 'Netgen March', 'Quantity April',\n",
       "       'Elec_Quantity April', 'Grossgen April', 'Netgen April', 'Quantity May',\n",
       "       'Elec_Quantity May', 'Grossgen May', 'Netgen May', 'Quantity June',\n",
       "       'Elec_Quantity June', 'Grossgen June', 'Netgen June', 'Quantity July',\n",
       "       'Elec_Quantity July', 'Grossgen July', 'Netgen July', 'Quantity August',\n",
       "       'Elec_Quantity August', 'Grossgen August', 'Netgen August',\n",
       "       'Quantity September', 'Elec_Quantity September', 'Grossgen September',\n",
       "       'Netgen September', 'Quantity October', 'Elec_Quantity October',\n",
       "       'Grossgen October', 'Netgen October', 'Quantity November',\n",
       "       'Elec_Quantity November', 'Grossgen November', 'Netgen November',\n",
       "       'Quantity December', 'Elec_Quantity December', 'Grossgen December',\n",
       "       'Netgen December', 'Total Fuel Consumption Quantity',\n",
       "       'Electric Fuel Consumption Quantity',\n",
       "       'Gross Generation (Megawatthours)', 'Net Generation (Megawatthours)'],\n",
       "      dtype='object')"
      ]
     },
     "execution_count": 139,
     "metadata": {},
     "output_type": "execute_result"
    }
   ],
   "source": [
    "df_3_transformed.columns"
   ]
  },
  {
   "cell_type": "code",
   "execution_count": null,
   "id": "65f34b4d-94d9-4b25-b3f4-79757e7e5adb",
   "metadata": {},
   "outputs": [],
   "source": []
  }
 ],
 "metadata": {
  "kernelspec": {
   "display_name": "Python 3 (ipykernel)",
   "language": "python",
   "name": "python3"
  },
  "language_info": {
   "codemirror_mode": {
    "name": "ipython",
    "version": 3
   },
   "file_extension": ".py",
   "mimetype": "text/x-python",
   "name": "python",
   "nbconvert_exporter": "python",
   "pygments_lexer": "ipython3",
   "version": "3.12.7"
  }
 },
 "nbformat": 4,
 "nbformat_minor": 5
}
