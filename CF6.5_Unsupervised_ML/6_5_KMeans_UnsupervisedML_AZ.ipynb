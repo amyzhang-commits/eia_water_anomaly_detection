{
  "nbformat": 4,
  "nbformat_minor": 0,
  "metadata": {
    "colab": {
      "provenance": []
    },
    "kernelspec": {
      "name": "python3",
      "display_name": "Python 3"
    },
    "language_info": {
      "name": "python"
    }
  },
  "cells": [
    {
      "cell_type": "code",
      "execution_count": null,
      "metadata": {
        "id": "3pHKbhQNTUtK"
      },
      "outputs": [],
      "source": [
        "import pandas as pd\n",
        "agg_df_2023 = pd.read_csv('/content/X2.csv')\n"
      ]
    },
    {
      "cell_type": "markdown",
      "source": [
        "## Dataset filtered to 1 year (2023)"
      ],
      "metadata": {
        "id": "GlrBqgrfcSNy"
      }
    },
    {
      "cell_type": "code",
      "source": [
        "agg_df_2023.columns"
      ],
      "metadata": {
        "colab": {
          "base_uri": "https://localhost:8080/"
        },
        "id": "JZyeaKj0Tc10",
        "outputId": "4c497ff5-a68d-4f5c-cb53-f3443202b5e2"
      },
      "execution_count": null,
      "outputs": [
        {
          "output_type": "execute_result",
          "data": {
            "text/plain": [
              "Index(['plant_code', 'state', 'steam_plant_type_full', 'year', 'sector',\n",
              "       'fuel_consump_all_fuel_types_mmbtu', 'gross_gen_mwh', 'net_gen_mwh',\n",
              "       'water_withdrawal_volume_mg', 'water_consumption_volume_mg'],\n",
              "      dtype='object')"
            ]
          },
          "metadata": {},
          "execution_count": 4
        }
      ]
    },
    {
      "cell_type": "code",
      "source": [
        "agg_df_2023.shape"
      ],
      "metadata": {
        "colab": {
          "base_uri": "https://localhost:8080/"
        },
        "id": "ZWerJUVVUOX8",
        "outputId": "b3da5b51-9906-4cfa-da9d-11179a57c3b0"
      },
      "execution_count": null,
      "outputs": [
        {
          "output_type": "execute_result",
          "data": {
            "text/plain": [
              "(538, 10)"
            ]
          },
          "metadata": {},
          "execution_count": 5
        }
      ]
    },
    {
      "cell_type": "code",
      "source": [
        "import numpy as np\n",
        "# Step 1: select the features you want to cluster on\n",
        "features = ['fuel_consump_all_fuel_types_mmbtu', 'gross_gen_mwh', 'net_gen_mwh',\n",
        "            'water_withdrawal_volume_mg', 'water_consumption_volume_mg']\n",
        "\n",
        "X = agg_df_2023[features]\n",
        "\n",
        "# Step 2: drop rows with NaNs or infs in X *but keep the index*\n",
        "X_clean = X.replace([np.inf, -np.inf], np.nan).dropna()\n",
        "\n",
        "# Step 3: subset original DataFrame using the cleaned index to keep alignment\n",
        "df_clean = agg_df_2023.loc[X_clean.index]\n",
        "\n",
        "# Now X_clean and df_clean are perfectly aligned\n"
      ],
      "metadata": {
        "id": "3BKVTGH3VFMU"
      },
      "execution_count": null,
      "outputs": []
    },
    {
      "cell_type": "markdown",
      "source": [
        "# Understanding 'Principal Component Analysis'"
      ],
      "metadata": {
        "id": "iwq9MuHwc_tA"
      }
    },
    {
      "cell_type": "code",
      "source": [
        "from sklearn.preprocessing import StandardScaler\n",
        "from sklearn.decomposition import PCA\n",
        "\n",
        "# Scale features\n",
        "scaler = StandardScaler()\n",
        "X_scaled = scaler.fit_transform(X_clean)\n",
        "\n",
        "# PCA with 2 components for visualization\n",
        "pca = PCA(n_components=2)\n",
        "X_pca = pca.fit_transform(X_scaled)\n",
        "\n",
        "# Optional: create a DataFrame to keep the PCA results with proper index\n",
        "df_pca = pd.DataFrame(X_pca, columns=['PC1', 'PC2'], index=X_clean.index)\n"
      ],
      "metadata": {
        "id": "X4JWRzG6VGpm"
      },
      "execution_count": null,
      "outputs": []
    },
    {
      "cell_type": "markdown",
      "source": [
        "### 🔖 Notes on PCA (Principal Component Analysis)\n",
        "\n",
        "PCA — Principal Component Analysis — is a technique for further streamlining the target dataset for unsupervised modeling. Its main purpose is to reduce the number of features while still keeping most of the *informational variation* in the dataset.\n",
        "\n",
        "PCA identifies new axes (called principal components) that capture the most **cumulative variance** — i.e., the differences that create the **most** difference between data points. After the first few components, the added value begins to drop off (a kind of diminishing returns effect).\n",
        "\n",
        "📐 The math trick behind PCA is based on **geometry**:\n",
        "- First, it finds the line (PCA1) that best captures the most **spread** in the cloud of data points.\n",
        "- Then, it finds the next-best line (PCA2), which is **orthogonal** (i.e., at 90°) to the first — and still captures as much *remaining* variance as possible.\n",
        "- This process repeats, creating a set of new, uncorrelated axes.\n",
        "\n",
        "📝 **NOTE TO SELF**:  \n",
        "It’s not just about running every pair of features and comparing their lines of best fit — PCA works in the *whole feature space at once*.  \n",
        "Advanced mathematics like **eigenvalues** and **eigenvectors** are used to figure out how to rotate and project the data into a new space that captures as much information as possible in fewer dimensions.\n",
        "\n",
        "📌 PCA is especially useful before clustering (like K-means), to make sure your inputs are **uncorrelated and lower-dimensional** — which helps the algorithm find better patterns.\n"
      ],
      "metadata": {
        "id": "jErKnoThcb2m"
      }
    },
    {
      "cell_type": "code",
      "source": [
        "#import matplotlib.pyplot as plt\n",
        "#import numpy as np\n",
        "\n",
        "# Assuming you have:\n",
        "# df_pca = PCA-transformed data (2 components)\n",
        "# pca = your fitted PCA object\n",
        "# features = list of your original features used in PCA\n",
        "\n",
        "features = ['fuel_consump_all_fuel_types_mmbtu', 'gross_gen_mwh', 'net_gen_mwh',\n",
        "            'water_withdrawal_volume_mg', 'water_consumption_volume_mg']\n",
        "\n",
        "plt.figure(figsize=(10,7))\n",
        "\n",
        "# Scatter plot of data points in PCA space\n",
        "plt.scatter(X_pca[:, 0], X_pca[:, 1], alpha=0.5, label='Data points')\n",
        "\n",
        "# Plot arrows for loadings\n",
        "for i, feature in enumerate(features):\n",
        "    plt.arrow(0, 0,\n",
        "              pca.components_[0, i]*5,  # scaled for visibility\n",
        "              pca.components_[1, i]*5,\n",
        "              color='r', alpha=0.7, head_width=0.1)\n",
        "    plt.text(pca.components_[0, i]*5*1.15,\n",
        "             pca.components_[1, i]*5*1.15,\n",
        "             feature, color='r', fontsize=12)\n",
        "\n",
        "plt.xlabel('PC1')\n",
        "plt.ylabel('PC2')\n",
        "plt.title('PCA Biplot')\n",
        "plt.grid(True)\n",
        "plt.legend()\n",
        "plt.show()\n"
      ],
      "metadata": {
        "colab": {
          "base_uri": "https://localhost:8080/",
          "height": 216
        },
        "id": "xkz6h0bpcud8",
        "outputId": "7092917e-ecd5-4628-cc67-a5e92fad4c68"
      },
      "execution_count": null,
      "outputs": [
        {
          "output_type": "error",
          "ename": "NameError",
          "evalue": "name 'plt' is not defined",
          "traceback": [
            "\u001b[0;31m---------------------------------------------------------------------------\u001b[0m",
            "\u001b[0;31mNameError\u001b[0m                                 Traceback (most recent call last)",
            "\u001b[0;32m<ipython-input-8-06a1adda66ae>\u001b[0m in \u001b[0;36m<cell line: 0>\u001b[0;34m()\u001b[0m\n\u001b[1;32m     10\u001b[0m             'water_withdrawal_volume_mg', 'water_consumption_volume_mg']\n\u001b[1;32m     11\u001b[0m \u001b[0;34m\u001b[0m\u001b[0m\n\u001b[0;32m---> 12\u001b[0;31m \u001b[0mplt\u001b[0m\u001b[0;34m.\u001b[0m\u001b[0mfigure\u001b[0m\u001b[0;34m(\u001b[0m\u001b[0mfigsize\u001b[0m\u001b[0;34m=\u001b[0m\u001b[0;34m(\u001b[0m\u001b[0;36m10\u001b[0m\u001b[0;34m,\u001b[0m\u001b[0;36m7\u001b[0m\u001b[0;34m)\u001b[0m\u001b[0;34m)\u001b[0m\u001b[0;34m\u001b[0m\u001b[0;34m\u001b[0m\u001b[0m\n\u001b[0m\u001b[1;32m     13\u001b[0m \u001b[0;34m\u001b[0m\u001b[0m\n\u001b[1;32m     14\u001b[0m \u001b[0;31m# Scatter plot of data points in PCA space\u001b[0m\u001b[0;34m\u001b[0m\u001b[0;34m\u001b[0m\u001b[0m\n",
            "\u001b[0;31mNameError\u001b[0m: name 'plt' is not defined"
          ]
        }
      ]
    },
    {
      "cell_type": "markdown",
      "source": [
        "The two columns show the machine-calculated weights (or loadings) that each original feature has on the principal components (PC1 and PC2). These weights indicate how strongly each feature influences the direction of the corresponding PCA axis.\n",
        "\n",
        "- For PC1, features related to fuel consumption and power generation have the highest weights, meaning this component primarily captures variations in energy production and fuel use.\n",
        "\n",
        "- For PC2, water withdrawal and consumption features have higher weights, so this axis mainly reflects differences in water usage.\n",
        "\n",
        "In other words, the PCA has effectively separated the main sources of variation in the dataset into two meaningful dimensions: one focused on energy/fuel, and the other on water.\n",
        "\n",
        "**NOTE-TO-SELF**: PCA is like a supercharged, dimensionality-reducing cousin of the correlation matrix:\n",
        "A correlation matrix shows you pairwise relationships between features — it tells you which features move together, but it can get overwhelming if you have tons of variables.PCA goes beyond pairs and looks at the whole multivariate picture at once, transforming your original features into a few new combined variables (principal components) that capture the most overall variance."
      ],
      "metadata": {
        "id": "UM1Orwe0c1rQ"
      }
    },
    {
      "cell_type": "markdown",
      "source": [
        "# Understanding 'Elbow Plot'"
      ],
      "metadata": {
        "id": "TJiMHo72dHav"
      }
    },
    {
      "cell_type": "code",
      "source": [
        "from sklearn.cluster import MiniBatchKMeans\n",
        "import matplotlib.pyplot as plt\n",
        "\n",
        "wcss = []\n",
        "K_range = range(1, 11)  # trying 1 to 10 clusters\n",
        "\n",
        "for k in K_range:\n",
        "    kmeans = MiniBatchKMeans(n_clusters=k, random_state=42)\n",
        "    kmeans.fit(X_pca)\n",
        "    wcss.append(kmeans.inertia_)\n",
        "\n",
        "plt.figure(figsize=(8,5))\n",
        "plt.plot(K_range, wcss, 'bo-', markersize=8)\n",
        "plt.xlabel('Number of clusters (k)')\n",
        "plt.ylabel('Within-cluster Sum of Squares (WCSS)')\n",
        "plt.title('Elbow Method to Determine Optimal k')\n",
        "plt.show()\n"
      ],
      "metadata": {
        "colab": {
          "base_uri": "https://localhost:8080/",
          "height": 487
        },
        "id": "W2a5_915VnoA",
        "outputId": "c3f6ea5f-4fdf-41ad-c3fe-8db7b9b7a361"
      },
      "execution_count": null,
      "outputs": [
        {
          "output_type": "display_data",
          "data": {
            "text/plain": [
              "<Figure size 800x500 with 1 Axes>"
            ],
            "image/png": "[encoded data removed]"
          },
          "metadata": {}
        }
      ]
    },
    {
      "cell_type": "markdown",
      "source": [
        "The experiential parallel to a machine’s elbow plotting for identifying meaningful cluster counts is the distance scale from which a pattern is viewed. As you “zoom out” (or increase the number of clusters), broader structures emerge — up to a point. Beyond that, the view becomes an undifferentiated mass, and additional clusters only capture noise.\n",
        "\n",
        "The elbow plot visualizes this with the Within-Cluster Sum of Squares (WCSS) — a measure of how tight the clusters are. Lower WCSS is better (tighter clusters), but the improvement slows down as k increases.\n",
        "\n",
        "In this dataset, after around 6 clusters, the WCSS curve begins to flatten. That’s the “elbow,” suggesting that adding more clusters would result in diminishing returns, modeling noise rather than meaningful distinctions.\n",
        "\n"
      ],
      "metadata": {
        "id": "GXnGW5zqc9CC"
      }
    },
    {
      "cell_type": "markdown",
      "source": [
        "# K-Means"
      ],
      "metadata": {
        "id": "OOOCQM2MdLDv"
      }
    },
    {
      "cell_type": "code",
      "source": [
        "optimal_k = 5\n",
        "\n",
        "kmeans_final = MiniBatchKMeans(n_clusters=optimal_k, random_state=42)\n",
        "clusters = kmeans_final.fit_predict(X_pca)\n",
        "\n",
        "# Add cluster labels back to your clean DataFrame\n",
        "df_clean['cluster'] = clusters\n"
      ],
      "metadata": {
        "id": "GaVriimFVypx"
      },
      "execution_count": null,
      "outputs": []
    },
    {
      "cell_type": "code",
      "source": [
        "df_clean.head()"
      ],
      "metadata": {
        "colab": {
          "base_uri": "https://localhost:8080/",
          "height": 313
        },
        "id": "9x_nXxq_V5ID",
        "outputId": "b62129f6-7d07-4990-867b-e5e0fa0abaa6"
      },
      "execution_count": null,
      "outputs": [
        {
          "output_type": "execute_result",
          "data": {
            "text/plain": [
              "   plant_code state                            steam_plant_type_full  year  \\\n",
              "0           3    AL  Large Thermal Combustion Steam Plants (≥100 MW)  2023   \n",
              "1          10    AL  Large Thermal Combustion Steam Plants (≥100 MW)  2023   \n",
              "2          26    AL  Large Thermal Combustion Steam Plants (≥100 MW)  2023   \n",
              "3          59    NE  Large Thermal Combustion Steam Plants (≥100 MW)  2023   \n",
              "4          60    NE  Large Thermal Combustion Steam Plants (≥100 MW)  2023   \n",
              "\n",
              "             sector  fuel_consump_all_fuel_types_mmbtu  gross_gen_mwh  \\\n",
              "0  Electric Utility                      617303.516667   82668.095890   \n",
              "1  Electric Utility                      568288.333333   58746.500000   \n",
              "2  Electric Utility                      507320.527778   50061.370370   \n",
              "3  Electric Utility                      340171.916667   33754.416667   \n",
              "4  Electric Utility                      488964.291667   50996.750000   \n",
              "\n",
              "    net_gen_mwh  water_withdrawal_volume_mg  water_consumption_volume_mg  \\\n",
              "0  80608.226027                 7553.157600                    71.428020   \n",
              "1  54753.458333                10106.078333                     0.000000   \n",
              "2  45889.074074                 6782.240741                   142.833429   \n",
              "3  30154.916667                   37.000000                    21.675000   \n",
              "4  45645.916667                   29.316870                    21.617522   \n",
              "\n",
              "   cluster  \n",
              "0        3  \n",
              "1        3  \n",
              "2        3  \n",
              "3        2  \n",
              "4        2  "
            ],
            "text/html": [
              "\n",
              "  <div id=\"df-34e77a75-cc4d-4e92-96a7-72c300d75b75\" class=\"colab-df-container\">\n",
              "    <div>\n",
              "<style scoped>\n",
              "    .dataframe tbody tr th:only-of-type {\n",
              "        vertical-align: middle;\n",
              "    }\n",
              "\n",
              "    .dataframe tbody tr th {\n",
              "        vertical-align: top;\n",
              "    }\n",
              "\n",
              "    .dataframe thead th {\n",
              "        text-align: right;\n",
              "    }\n",
              "</style>\n",
              "<table border=\"1\" class=\"dataframe\">\n",
              "  <thead>\n",
              "    <tr style=\"text-align: right;\">\n",
              "      <th></th>\n",
              "      <th>plant_code</th>\n",
              "      <th>state</th>\n",
              "      <th>steam_plant_type_full</th>\n",
              "      <th>year</th>\n",
              "      <th>sector</th>\n",
              "      <th>fuel_consump_all_fuel_types_mmbtu</th>\n",
              "      <th>gross_gen_mwh</th>\n",
              "      <th>net_gen_mwh</th>\n",
              "      <th>water_withdrawal_volume_mg</th>\n",
              "      <th>water_consumption_volume_mg</th>\n",
              "      <th>cluster</th>\n",
              "    </tr>\n",
              "  </thead>\n",
              "  <tbody>\n",
              "    <tr>\n",
              "      <th>0</th>\n",
              "      <td>3</td>\n",
              "      <td>AL</td>\n",
              "      <td>Large Thermal Combustion Steam Plants (≥100 MW)</td>\n",
              "      <td>2023</td>\n",
              "      <td>Electric Utility</td>\n",
              "      <td>617303.516667</td>\n",
              "      <td>82668.095890</td>\n",
              "      <td>80608.226027</td>\n",
              "      <td>7553.157600</td>\n",
              "      <td>71.428020</td>\n",
              "      <td>3</td>\n",
              "    </tr>\n",
              "    <tr>\n",
              "      <th>1</th>\n",
              "      <td>10</td>\n",
              "      <td>AL</td>\n",
              "      <td>Large Thermal Combustion Steam Plants (≥100 MW)</td>\n",
              "      <td>2023</td>\n",
              "      <td>Electric Utility</td>\n",
              "      <td>568288.333333</td>\n",
              "      <td>58746.500000</td>\n",
              "      <td>54753.458333</td>\n",
              "      <td>10106.078333</td>\n",
              "      <td>0.000000</td>\n",
              "      <td>3</td>\n",
              "    </tr>\n",
              "    <tr>\n",
              "      <th>2</th>\n",
              "      <td>26</td>\n",
              "      <td>AL</td>\n",
              "      <td>Large Thermal Combustion Steam Plants (≥100 MW)</td>\n",
              "      <td>2023</td>\n",
              "      <td>Electric Utility</td>\n",
              "      <td>507320.527778</td>\n",
              "      <td>50061.370370</td>\n",
              "      <td>45889.074074</td>\n",
              "      <td>6782.240741</td>\n",
              "      <td>142.833429</td>\n",
              "      <td>3</td>\n",
              "    </tr>\n",
              "    <tr>\n",
              "      <th>3</th>\n",
              "      <td>59</td>\n",
              "      <td>NE</td>\n",
              "      <td>Large Thermal Combustion Steam Plants (≥100 MW)</td>\n",
              "      <td>2023</td>\n",
              "      <td>Electric Utility</td>\n",
              "      <td>340171.916667</td>\n",
              "      <td>33754.416667</td>\n",
              "      <td>30154.916667</td>\n",
              "      <td>37.000000</td>\n",
              "      <td>21.675000</td>\n",
              "      <td>2</td>\n",
              "    </tr>\n",
              "    <tr>\n",
              "      <th>4</th>\n",
              "      <td>60</td>\n",
              "      <td>NE</td>\n",
              "      <td>Large Thermal Combustion Steam Plants (≥100 MW)</td>\n",
              "      <td>2023</td>\n",
              "      <td>Electric Utility</td>\n",
              "      <td>488964.291667</td>\n",
              "      <td>50996.750000</td>\n",
              "      <td>45645.916667</td>\n",
              "      <td>29.316870</td>\n",
              "      <td>21.617522</td>\n",
              "      <td>2</td>\n",
              "    </tr>\n",
              "  </tbody>\n",
              "</table>\n",
              "</div>\n",
              "    <div class=\"colab-df-buttons\">\n",
              "\n",
              "  <div class=\"colab-df-container\">\n",
              "    <button class=\"colab-df-convert\" onclick=\"convertToInteractive('df-34e77a75-cc4d-4e92-96a7-72c300d75b75')\"\n",
              "            title=\"Convert this dataframe to an interactive table.\"\n",
              "            style=\"display:none;\">\n",
              "\n",
              "  <svg xmlns=\"http://www.w3.org/2000/svg\" height=\"24px\" viewBox=\"0 -960 960 960\">\n",
              "    <path d=\"M120-120v-720h720v720H120Zm60-500h600v-160H180v160Zm220 220h160v-160H400v160Zm0 220h160v-160H400v160ZM180-400h160v-160H180v160Zm440 0h160v-160H620v160ZM180-180h160v-160H180v160Zm440 0h160v-160H620v160Z\"/>\n",
              "  </svg>\n",
              "    </button>\n",
              "\n",
              "  <style>\n",
              "    .colab-df-container {\n",
              "      display:flex;\n",
              "      gap: 12px;\n",
              "    }\n",
              "\n",
              "    .colab-df-convert {\n",
              "      background-color: #E8F0FE;\n",
              "      border: none;\n",
              "      border-radius: 50%;\n",
              "      cursor: pointer;\n",
              "      display: none;\n",
              "      fill: #1967D2;\n",
              "      height: 32px;\n",
              "      padding: 0 0 0 0;\n",
              "      width: 32px;\n",
              "    }\n",
              "\n",
              "    .colab-df-convert:hover {\n",
              "      background-color: #E2EBFA;\n",
              "      box-shadow: 0px 1px 2px rgba(60, 64, 67, 0.3), 0px 1px 3px 1px rgba(60, 64, 67, 0.15);\n",
              "      fill: #174EA6;\n",
              "    }\n",
              "\n",
              "    .colab-df-buttons div {\n",
              "      margin-bottom: 4px;\n",
              "    }\n",
              "\n",
              "    [theme=dark] .colab-df-convert {\n",
              "      background-color: #3B4455;\n",
              "      fill: #D2E3FC;\n",
              "    }\n",
              "\n",
              "    [theme=dark] .colab-df-convert:hover {\n",
              "      background-color: #434B5C;\n",
              "      box-shadow: 0px 1px 3px 1px rgba(0, 0, 0, 0.15);\n",
              "      filter: drop-shadow(0px 1px 2px rgba(0, 0, 0, 0.3));\n",
              "      fill: #FFFFFF;\n",
              "    }\n",
              "  </style>\n",
              "\n",
              "    <script>\n",
              "      const buttonEl =\n",
              "        document.querySelector('#df-34e77a75-cc4d-4e92-96a7-72c300d75b75 button.colab-df-convert');\n",
              "      buttonEl.style.display =\n",
              "        google.colab.kernel.accessAllowed ? 'block' : 'none';\n",
              "\n",
              "      async function convertToInteractive(key) {\n",
              "        const element = document.querySelector('#df-34e77a75-cc4d-4e92-96a7-72c300d75b75');\n",
              "        const dataTable =\n",
              "          await google.colab.kernel.invokeFunction('convertToInteractive',\n",
              "                                                    [key], {});\n",
              "        if (!dataTable) return;\n",
              "\n",
              "        const docLinkHtml = 'Like what you see? Visit the ' +\n",
              "          '<a target=\"_blank\" href=https://colab.research.google.com/notebooks/data_table.ipynb>data table notebook</a>'\n",
              "          + ' to learn more about interactive tables.';\n",
              "        element.innerHTML = '';\n",
              "        dataTable['output_type'] = 'display_data';\n",
              "        await google.colab.output.renderOutput(dataTable, element);\n",
              "        const docLink = document.createElement('div');\n",
              "        docLink.innerHTML = docLinkHtml;\n",
              "        element.appendChild(docLink);\n",
              "      }\n",
              "    </script>\n",
              "  </div>\n",
              "\n",
              "\n",
              "    <div id=\"df-b3146b56-0192-4c4b-afb8-b3ac066e124d\">\n",
              "      <button class=\"colab-df-quickchart\" onclick=\"quickchart('df-b3146b56-0192-4c4b-afb8-b3ac066e124d')\"\n",
              "                title=\"Suggest charts\"\n",
              "                style=\"display:none;\">\n",
              "\n",
              "<svg xmlns=\"http://www.w3.org/2000/svg\" height=\"24px\"viewBox=\"0 0 24 24\"\n",
              "     width=\"24px\">\n",
              "    <g>\n",
              "        <path d=\"M19 3H5c-1.1 0-2 .9-2 2v14c0 1.1.9 2 2 2h14c1.1 0 2-.9 2-2V5c0-1.1-.9-2-2-2zM9 17H7v-7h2v7zm4 0h-2V7h2v10zm4 0h-2v-4h2v4z\"/>\n",
              "    </g>\n",
              "</svg>\n",
              "      </button>\n",
              "\n",
              "<style>\n",
              "  .colab-df-quickchart {\n",
              "      --bg-color: #E8F0FE;\n",
              "      --fill-color: #1967D2;\n",
              "      --hover-bg-color: #E2EBFA;\n",
              "      --hover-fill-color: #174EA6;\n",
              "      --disabled-fill-color: #AAA;\n",
              "      --disabled-bg-color: #DDD;\n",
              "  }\n",
              "\n",
              "  [theme=dark] .colab-df-quickchart {\n",
              "      --bg-color: #3B4455;\n",
              "      --fill-color: #D2E3FC;\n",
              "      --hover-bg-color: #434B5C;\n",
              "      --hover-fill-color: #FFFFFF;\n",
              "      --disabled-bg-color: #3B4455;\n",
              "      --disabled-fill-color: #666;\n",
              "  }\n",
              "\n",
              "  .colab-df-quickchart {\n",
              "    background-color: var(--bg-color);\n",
              "    border: none;\n",
              "    border-radius: 50%;\n",
              "    cursor: pointer;\n",
              "    display: none;\n",
              "    fill: var(--fill-color);\n",
              "    height: 32px;\n",
              "    padding: 0;\n",
              "    width: 32px;\n",
              "  }\n",
              "\n",
              "  .colab-df-quickchart:hover {\n",
              "    background-color: var(--hover-bg-color);\n",
              "    box-shadow: 0 1px 2px rgba(60, 64, 67, 0.3), 0 1px 3px 1px rgba(60, 64, 67, 0.15);\n",
              "    fill: var(--button-hover-fill-color);\n",
              "  }\n",
              "\n",
              "  .colab-df-quickchart-complete:disabled,\n",
              "  .colab-df-quickchart-complete:disabled:hover {\n",
              "    background-color: var(--disabled-bg-color);\n",
              "    fill: var(--disabled-fill-color);\n",
              "    box-shadow: none;\n",
              "  }\n",
              "\n",
              "  .colab-df-spinner {\n",
              "    border: 2px solid var(--fill-color);\n",
              "    border-color: transparent;\n",
              "    border-bottom-color: var(--fill-color);\n",
              "    animation:\n",
              "      spin 1s steps(1) infinite;\n",
              "  }\n",
              "\n",
              "  @keyframes spin {\n",
              "    0% {\n",
              "      border-color: transparent;\n",
              "      border-bottom-color: var(--fill-color);\n",
              "      border-left-color: var(--fill-color);\n",
              "    }\n",
              "    20% {\n",
              "      border-color: transparent;\n",
              "      border-left-color: var(--fill-color);\n",
              "      border-top-color: var(--fill-color);\n",
              "    }\n",
              "    30% {\n",
              "      border-color: transparent;\n",
              "      border-left-color: var(--fill-color);\n",
              "      border-top-color: var(--fill-color);\n",
              "      border-right-color: var(--fill-color);\n",
              "    }\n",
              "    40% {\n",
              "      border-color: transparent;\n",
              "      border-right-color: var(--fill-color);\n",
              "      border-top-color: var(--fill-color);\n",
              "    }\n",
              "    60% {\n",
              "      border-color: transparent;\n",
              "      border-right-color: var(--fill-color);\n",
              "    }\n",
              "    80% {\n",
              "      border-color: transparent;\n",
              "      border-right-color: var(--fill-color);\n",
              "      border-bottom-color: var(--fill-color);\n",
              "    }\n",
              "    90% {\n",
              "      border-color: transparent;\n",
              "      border-bottom-color: var(--fill-color);\n",
              "    }\n",
              "  }\n",
              "</style>\n",
              "\n",
              "      <script>\n",
              "        async function quickchart(key) {\n",
              "          const quickchartButtonEl =\n",
              "            document.querySelector('#' + key + ' button');\n",
              "          quickchartButtonEl.disabled = true;  // To prevent multiple clicks.\n",
              "          quickchartButtonEl.classList.add('colab-df-spinner');\n",
              "          try {\n",
              "            const charts = await google.colab.kernel.invokeFunction(\n",
              "                'suggestCharts', [key], {});\n",
              "          } catch (error) {\n",
              "            console.error('Error during call to suggestCharts:', error);\n",
              "          }\n",
              "          quickchartButtonEl.classList.remove('colab-df-spinner');\n",
              "          quickchartButtonEl.classList.add('colab-df-quickchart-complete');\n",
              "        }\n",
              "        (() => {\n",
              "          let quickchartButtonEl =\n",
              "            document.querySelector('#df-b3146b56-0192-4c4b-afb8-b3ac066e124d button');\n",
              "          quickchartButtonEl.style.display =\n",
              "            google.colab.kernel.accessAllowed ? 'block' : 'none';\n",
              "        })();\n",
              "      </script>\n",
              "    </div>\n",
              "\n",
              "    </div>\n",
              "  </div>\n"
            ],
            "application/vnd.google.colaboratory.intrinsic+json": {
              "type": "dataframe",
              "variable_name": "df_clean",
              "summary": "{\n  \"name\": \"df_clean\",\n  \"rows\": 538,\n  \"fields\": [\n    {\n      \"column\": \"plant_code\",\n      \"properties\": {\n        \"dtype\": \"number\",\n        \"std\": 25531,\n        \"min\": 3,\n        \"max\": 64020,\n        \"num_unique_values\": 538,\n        \"samples\": [\n          56237,\n          1363,\n          55062\n        ],\n        \"semantic_type\": \"\",\n        \"description\": \"\"\n      }\n    },\n    {\n      \"column\": \"state\",\n      \"properties\": {\n        \"dtype\": \"category\",\n        \"num_unique_values\": 47,\n        \"samples\": [\n          \"NY\",\n          \"MT\",\n          \"NM\"\n        ],\n        \"semantic_type\": \"\",\n        \"description\": \"\"\n      }\n    },\n    {\n      \"column\": \"steam_plant_type_full\",\n      \"properties\": {\n        \"dtype\": \"category\",\n        \"num_unique_values\": 4,\n        \"samples\": [\n          \"Large Non-Combustion Steam Plants (\\u2265100 MW)\",\n          \"Medium Thermal Combustion Steam Plants (10\\u201399 MW)\",\n          \"Large Thermal Combustion Steam Plants (\\u2265100 MW)\"\n        ],\n        \"semantic_type\": \"\",\n        \"description\": \"\"\n      }\n    },\n    {\n      \"column\": \"year\",\n      \"properties\": {\n        \"dtype\": \"number\",\n        \"std\": 0,\n        \"min\": 2023,\n        \"max\": 2023,\n        \"num_unique_values\": 1,\n        \"samples\": [\n          2023\n        ],\n        \"semantic_type\": \"\",\n        \"description\": \"\"\n      }\n    },\n    {\n      \"column\": \"sector\",\n      \"properties\": {\n        \"dtype\": \"category\",\n        \"num_unique_values\": 6,\n        \"samples\": [\n          \"Electric Utility\"\n        ],\n        \"semantic_type\": \"\",\n        \"description\": \"\"\n      }\n    },\n    {\n      \"column\": \"fuel_consump_all_fuel_types_mmbtu\",\n      \"properties\": {\n        \"dtype\": \"number\",\n        \"std\": 824154.6810945623,\n        \"min\": 0.0,\n        \"max\": 5449886.416666667,\n        \"num_unique_values\": 536,\n        \"samples\": [\n          515702.4583333333\n        ],\n        \"semantic_type\": \"\",\n        \"description\": \"\"\n      }\n    },\n    {\n      \"column\": \"gross_gen_mwh\",\n      \"properties\": {\n        \"dtype\": \"number\",\n        \"std\": 86438.82237301282,\n        \"min\": 0.0,\n        \"max\": 612112.4583333334,\n        \"num_unique_values\": 536,\n        \"samples\": [\n          46671.0\n        ],\n        \"semantic_type\": \"\",\n        \"description\": \"\"\n      }\n    },\n    {\n      \"column\": \"net_gen_mwh\",\n      \"properties\": {\n        \"dtype\": \"number\",\n        \"std\": 80000.93565424335,\n        \"min\": -850.1111111111111,\n        \"max\": 563758.3333333334,\n        \"num_unique_values\": 536,\n        \"samples\": [\n          43488.208333333336\n        ],\n        \"semantic_type\": \"\",\n        \"description\": \"\"\n      }\n    },\n    {\n      \"column\": \"water_withdrawal_volume_mg\",\n      \"properties\": {\n        \"dtype\": \"number\",\n        \"std\": 5481.400463753296,\n        \"min\": 0.0,\n        \"max\": 53006.42925,\n        \"num_unique_values\": 534,\n        \"samples\": [\n          0.9639166666666666\n        ],\n        \"semantic_type\": \"\",\n        \"description\": \"\"\n      }\n    },\n    {\n      \"column\": \"water_consumption_volume_mg\",\n      \"properties\": {\n        \"dtype\": \"number\",\n        \"std\": 295.1769082491397,\n        \"min\": 0.0,\n        \"max\": 5314.936363636363,\n        \"num_unique_values\": 467,\n        \"samples\": [\n          17.764166666666668\n        ],\n        \"semantic_type\": \"\",\n        \"description\": \"\"\n      }\n    },\n    {\n      \"column\": \"cluster\",\n      \"properties\": {\n        \"dtype\": \"int32\",\n        \"num_unique_values\": 5,\n        \"samples\": [\n          2\n        ],\n        \"semantic_type\": \"\",\n        \"description\": \"\"\n      }\n    }\n  ]\n}"
            }
          },
          "metadata": {},
          "execution_count": 11
        }
      ]
    },
    {
      "cell_type": "code",
      "source": [
        "import seaborn as sns\n",
        "#import matplotlib.pyplot as plt\n",
        "\n",
        "# Filter by sector if you want\n",
        "sector_filter = 'Electric Utility'\n",
        "df_sector = df_clean[df_clean['sector'] == sector_filter]\n",
        "\n",
        "plt.figure(figsize=(10,6))\n",
        "sns.scatterplot(\n",
        "    data=df_sector,\n",
        "    x='water_withdrawal_volume_mg',\n",
        "    y='net_gen_mwh',\n",
        "    hue='cluster',\n",
        "    palette='tab10',\n",
        "    s=60,\n",
        "    alpha=0.8\n",
        ")\n",
        "plt.title(f'Clusters in {sector_filter} Sector: Water Withdrawal vs. Net Generation')\n",
        "plt.xlabel('Water Withdrawal Volume (MG)')\n",
        "plt.ylabel('Net Generation (MWh)')\n",
        "plt.legend(title='Cluster')\n",
        "plt.show()\n"
      ],
      "metadata": {
        "colab": {
          "base_uri": "https://localhost:8080/",
          "height": 564
        },
        "id": "U5xCLMgoV6Bl",
        "outputId": "3d327d59-5ff8-431a-c519-1036d34dfa64"
      },
      "execution_count": null,
      "outputs": [
        {
          "output_type": "display_data",
          "data": {
            "text/plain": [
              "<Figure size 1000x600 with 1 Axes>"
            ],
            "image/png": "[encoded data removed]"
          },
          "metadata": {}
        }
      ]
    },
    {
      "cell_type": "markdown",
      "source": [
        "## Discuss how and why the clusters make sense. If they don’t make sense, however, this is also useful insight, as it means you’ll need to explore the data further."
      ],
      "metadata": {
        "id": "vvAL-TbsLyQf"
      }
    },
    {
      "cell_type": "markdown",
      "source": [
        "These clusters are particularly useful given the **non-linear relationships** between key variables in the dataset—especially those related to water usage. Without strong domain knowledge or a clear baseline for what qualifies as an anomaly, **unsupervised learning offers a way to surface structure** in the data that might not be immediately apparent.\n",
        "\n",
        "Here’s how the clusters appear to break down:\n",
        "\n",
        "* **Clusters 0, 2, 3, and 4** contain plants with **zero water withdrawal** but a range of net generation outputs. These are likely **air-cooled or closed-loop systems**, suggesting lower environmental water impact. The variation in generation indicates differences in plant size or fuel source.\n",
        "\n",
        "* **Cluster 2** seems to represent **small, low-output facilities** with low to moderate water withdrawal. Possibly small-scale or less efficient plants.\n",
        "\n",
        "* **Clusters 3 and 0** appear to group **mid-sized plants**, possibly **thermal combustion** types with more traditional water use profiles (up to \\~20,000 million gallons).\n",
        "\n",
        "* **Cluster 4** contains **high-output plants** (\\~300,000–400,000 MWh) with surprisingly **low to moderate water withdrawal**. These might be **large, efficient facilities using advanced cooling systems**. One extreme outlier in this group warrants deeper inspection.\n",
        "\n",
        "* **Cluster 1** is the most **diffuse**, with mid-level energy output but **very high water withdrawal**. This may signal **older or less efficient infrastructure**, perhaps **legacy coal plants**.\n",
        "\n",
        "### Why These Clusters Matter\n",
        "\n",
        "Even if the clusters don't map perfectly to known plant types, they **highlight patterns in the absence of clear ground truth**. For instance, the **prevalence of zero or missing water usage data** across different generation levels may reflect reporting inconsistencies, regional regulations, or technical setups—all of which deserve closer scrutiny.\n",
        "\n",
        "Moreover, this clustering lays a foundation for **further analysis**: for example, by overlaying these groups with operational risk indicators or regional environmental policies. It gives us a starting point for identifying plants that are **underperforming, anomalous, or potentially misleading** based on their reported metrics."
      ],
      "metadata": {
        "id": "FPSMXB9ZPB_N"
      }
    },
    {
      "cell_type": "markdown",
      "source": [
        "## Calculate the descriptive statistics for your clusters using the groupby() function and discuss your findings. Propose what these results could be useful for in future steps of an analytics pipeline."
      ],
      "metadata": {
        "id": "zAqabCi7QyN3"
      }
    },
    {
      "cell_type": "code",
      "source": [
        "# Descriptive stats by cluster\n",
        "cluster_summary = df_clean.groupby('cluster')[['net_gen_mwh', 'water_withdrawal_volume_mg']].describe()\n",
        "print(cluster_summary)\n"
      ],
      "metadata": {
        "colab": {
          "base_uri": "https://localhost:8080/"
        },
        "id": "CX14yvn7RUqE",
        "outputId": "cb7c35b8-1537-4c8f-fc97-f93fe021c685"
      },
      "execution_count": null,
      "outputs": [
        {
          "output_type": "stream",
          "name": "stdout",
          "text": [
            "        net_gen_mwh                                               \\\n",
            "              count           mean            std            min   \n",
            "cluster                                                            \n",
            "0              77.0  175648.836838   34765.556192  115340.583333   \n",
            "1              10.0  132578.622942  103711.950870   41167.708333   \n",
            "2             178.0   22808.324215   17227.881286    -850.111111   \n",
            "3             247.0   86923.804406   20060.255696   42198.722222   \n",
            "4              26.0  331714.872960   87019.907637  243911.416667   \n",
            "\n",
            "                                                                     \\\n",
            "                   25%            50%            75%            max   \n",
            "cluster                                                               \n",
            "0        148368.875000  171734.833333  202578.750000  269972.833333   \n",
            "1         69837.750000   74437.995833  204675.786458  343095.636364   \n",
            "2          7278.641204   20060.645833   37174.861979   60374.083333   \n",
            "3         72890.333333   86227.562500  100180.194444  141043.541667   \n",
            "4        275375.270833  305397.937500  341492.447917  563758.333333   \n",
            "\n",
            "        water_withdrawal_volume_mg                                           \\\n",
            "                             count          mean           std          min   \n",
            "cluster                                                                       \n",
            "0                             77.0   2732.543186   4468.897924     1.291833   \n",
            "1                             10.0  27522.722920  16679.362651  2234.936364   \n",
            "2                            178.0    841.180433   1640.586636     0.000000   \n",
            "3                            247.0   1480.437210   3273.400049     0.000000   \n",
            "4                             26.0   4819.617069   8803.446390    75.557667   \n",
            "\n",
            "                                                                 \n",
            "                  25%           50%           75%           max  \n",
            "cluster                                                          \n",
            "0           94.831083    164.176250   4679.424375  19157.500000  \n",
            "1        14497.974583  32376.500000  34747.817292  53006.429250  \n",
            "2           15.570208     45.665792   1023.283250   8887.400000  \n",
            "3           58.233625     80.250083    187.262208  17685.304750  \n",
            "4          133.367802    267.699708   7766.505958  37336.442083  \n"
          ]
        }
      ]
    },
    {
      "cell_type": "markdown",
      "source": [
        "### Cluster 1\n",
        "\n",
        "Cluster 1 contains only 10 power plants, with a mean net generation of 132,578 MWh and a median of 74,438 MWh—suggesting that a few high-output plants are pulling the average upward. The minimum is 41,168 MWh, and with a standard deviation of 103,712 MWh (the highest of all clusters), these plants show a high degree of variability in energy output. Overall, they appear to be erratic but moderate producers.\n",
        "\n",
        "Notably, Cluster 1 shows the highest water withdrawal volume of all clusters—averaging 27,523 million gallons, with some plants drawing over 53,000 MG. Although many still fall under the common 250,000 MG withdrawal threshold, this cluster stands out in terms of water intensity.\n",
        "\n",
        "This raises some interpretive questions: Could these be medium-sized thermal combustion plants with complex configurations (e.g., combined cycle single shaft systems) that result in higher water demand or more volatile operational patterns? Alternatively, might they include older plants undergoing retrofits or plants with more intricate or error-prone water monitoring systems?"
      ],
      "metadata": {
        "id": "3ZrNxnBuXZke"
      }
    },
    {
      "cell_type": "markdown",
      "source": [
        "### Cluster 2 & 3\n",
        "\n",
        "Cluster 2 includes the lowest electricity producers of 2023, with a maximum net generation of just 60,374 MWh. The minimum is -850 MWh, a disconcerting figure suggesting that at least one plant consumed more electricity than it produced over the year. This anomaly may warrant closer investigation—possibly a data entry error or an unusual Energy Storage unit (e.g., with a Compressed Air Energy Storage (CAES) or CSP configuration) where input exceeds output in a reporting cycle.\n",
        "\n",
        "The mean water withdrawal (841 MG) is higher than the median (46 MG), suggesting the presence of a few outliers with disproportionately high water usage. These are likely skewing the cluster's overall average. Overall, Cluster 2 represents small or underutilized plants, with minimal water use and low output—perhaps peaker plants, plants on standby, or even decommissioning.\n",
        "\n",
        "Cluster 3, in contrast, reflects a slightly larger but still modest generation profile, with a max output of circa 141,000 MWh and similar minimum value of 0. Its higher standard deviation in water withdrawal ( about 3,273 MG) compared to Cluster 2 reflects greater operational diversity or technological variation.\n",
        "\n",
        "Taken together, Clusters 2 and 3 may represent a spectrum of smaller-to-mid-tier plants—some conventional, others atypical—whose water metrics vary based on technology, cooling systems, or plant age. Their inclusion helps fill out the ecosystem of non-major producers and may be crucial to understanding the lower end of generation infrastructure."
      ],
      "metadata": {
        "id": "uCnJ_MmjeW85"
      }
    },
    {
      "cell_type": "markdown",
      "source": [
        "### Cluster 0 & 4\n",
        "\n",
        "Clusters 0 and 4 represent the second-highest and highest electricity producers, respectively. Cluster 4 leads with a mean net generation of ~332,000 MWh, while Cluster 0 averages ~176,000 MWh. Both clusters exhibit strikingly similar water withdrawal patterns: mean values vastly exceed the median (by nearly 20x in some cases), suggesting that most plants operate with extremely low or near-zero water use, while a few outliers significantly inflate the average.\n",
        "\n",
        "This skew implies the dominant use of closed-loop or air-cooled systems, which require minimal water withdrawal, or possibly plants with incomplete water reporting. Given their high and stable generation levels, these clusters likely capture the large-scale, baseload providers of the grid—such as large combustion turbines (likely in Cluster 0) and nuclear facilities (potentially within Cluster 4).\n",
        "\n",
        "Their water-efficiency profiles and high output position them as critical infrastructure—both reliable and potentially optimized for environmental compliance. These clusters merit close attention as benchmarks or targets for scaling efficient tech to mid- and lower-performing groups."
      ],
      "metadata": {
        "id": "YmMrLV1zh6k1"
      }
    },
    {
      "cell_type": "markdown",
      "source": [
        "# TL;DR & Next Steps\n",
        "Clusters 0 & 4 likely represent the largest and most reliable power plants—critical infrastructure using efficient or minimal water withdrawal systems.\n",
        "→ Use these as benchmarks for identifying what “healthy” plant performance looks like, both in terms of output and resource use.\n",
        "\n",
        "Cluster 1 demands closer scrutiny: moderate producers with high water withdrawal and the highest variability in both electricity output and water metrics.\n",
        "→ Could reflect outdated or diverse plant tech, or data entry inconsistencies. This group is ideal for targeting inefficiencies or auditing data quality.\n",
        "\n",
        "Clusters 2 & 3 likely house smaller or transitional plants, given their low to moderate output.\n",
        "→ Use these to define baseline expectations for the smallest segment of the fleet—but flag outliers (e.g. negative net generation in Cluster 2) for further validation. Some may be misclassified large plants in an unusual operational year (e.g. during retrofits or storage use).\n",
        "\n"
      ],
      "metadata": {
        "id": "1MJKJuU4jgyp"
      }
    },
    {
      "cell_type": "code",
      "source": [],
      "metadata": {
        "id": "G5VvAQqORlfY"
      },
      "execution_count": null,
      "outputs": []
    }
  ]
}